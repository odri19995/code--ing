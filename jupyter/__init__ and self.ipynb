{
 "cells": [
  {
   "cell_type": "markdown",
   "id": "9d3a7220",
   "metadata": {},
   "source": [
    "클래스를 사용하지 않고 함수 작성한다면 보통 다음과 같이 작성한다."
   ]
  },
  {
   "cell_type": "code",
   "execution_count": 1,
   "id": "17db2a61",
   "metadata": {},
   "outputs": [],
   "source": [
    "def some_function(something):\n",
    "    print(something)"
   ]
  },
  {
   "cell_type": "markdown",
   "id": "37a95c55",
   "metadata": {},
   "source": [
    "클래스를 사용했을때는 이렇게 된다."
   ]
  },
  {
   "cell_type": "code",
   "execution_count": 2,
   "id": "c9fa2691",
   "metadata": {},
   "outputs": [],
   "source": [
    "class some_class:\n",
    "    def __init__(self,something):\n",
    "        self.something = something\n",
    "\n",
    "    def some_function(self):\n",
    "        print(self.something)"
   ]
  },
  {
   "cell_type": "code",
   "execution_count": 11,
   "id": "a6b382fd",
   "metadata": {
    "scrolled": true
   },
   "outputs": [
    {
     "name": "stdout",
     "output_type": "stream",
     "text": [
      "s\n"
     ]
    }
   ],
   "source": [
    "a=SomeClass(\"s\")\n",
    "a.some_function()"
   ]
  }
 ],
 "metadata": {
  "kernelspec": {
   "display_name": "Python 3 (ipykernel)",
   "language": "python",
   "name": "python3"
  },
  "language_info": {
   "codemirror_mode": {
    "name": "ipython",
    "version": 3
   },
   "file_extension": ".py",
   "mimetype": "text/x-python",
   "name": "python",
   "nbconvert_exporter": "python",
   "pygments_lexer": "ipython3",
   "version": "3.9.13"
  }
 },
 "nbformat": 4,
 "nbformat_minor": 5
}
