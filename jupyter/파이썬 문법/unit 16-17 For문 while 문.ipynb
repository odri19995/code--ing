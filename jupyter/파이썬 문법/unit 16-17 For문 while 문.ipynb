{
 "cells": [
  {
   "cell_type": "code",
   "execution_count": 1,
   "id": "72298e9e",
   "metadata": {},
   "outputs": [
    {
     "name": "stdout",
     "output_type": "stream",
     "text": [
      "hello\n",
      "hello\n",
      "hello\n",
      "hello\n"
     ]
    }
   ],
   "source": [
    "for i in range(4):\n",
    "    print(\"hello\")"
   ]
  },
  {
   "cell_type": "code",
   "execution_count": null,
   "id": "10ba6826",
   "metadata": {},
   "outputs": [],
   "source": [
    "for i in range(5, 12):    # 5부터 11까지 반복\n",
    "...     print('Hello, world!', i)\n",
    "...\n",
    "Hello, world! 5\n",
    "Hello, world! 6\n",
    "Hello, world! 7\n",
    "Hello, world! 8\n",
    "Hello, world! 9"
   ]
  },
  {
   "cell_type": "code",
   "execution_count": 3,
   "id": "8b3f9952",
   "metadata": {},
   "outputs": [
    {
     "name": "stdout",
     "output_type": "stream",
     "text": [
      "hello 10\n",
      "hello 9\n",
      "hello 8\n",
      "hello 7\n",
      "hello 6\n",
      "hello 5\n",
      "hello 4\n",
      "hello 3\n",
      "hello 2\n",
      "hello 1\n"
     ]
    }
   ],
   "source": [
    "for i in range(10, 0, -1):\n",
    "    print(\"hello\", i)"
   ]
  },
  {
   "cell_type": "code",
   "execution_count": 4,
   "id": "667f727b",
   "metadata": {},
   "outputs": [
    {
     "name": "stdout",
     "output_type": "stream",
     "text": [
      "반복할 횟수를 입력하세요: 3\n",
      "Hello, world! 0\n",
      "Hello, world! 1\n",
      "Hello, world! 2\n"
     ]
    }
   ],
   "source": [
    "count = int(input('반복할 횟수를 입력하세요: '))\n",
    "for i in range(count):\n",
    "    print('Hello, world!', i)"
   ]
  },
  {
   "cell_type": "code",
   "execution_count": 5,
   "id": "9b4b117a",
   "metadata": {},
   "outputs": [
    {
     "name": "stdout",
     "output_type": "stream",
     "text": [
      "10\n",
      "20\n",
      "30\n",
      "40\n",
      "50\n"
     ]
    },
    {
     "data": {
      "text/plain": [
       "50"
      ]
     },
     "execution_count": 5,
     "metadata": {},
     "output_type": "execute_result"
    }
   ],
   "source": [
    "a = [10, 20, 30, 40, 50]\n",
    ">>> for i in a:\n",
    "...     print(i)\n",
    "...\n",
    "10\n",
    "20\n",
    "30\n",
    "40\n",
    "50"
   ]
  },
  {
   "cell_type": "code",
   "execution_count": 7,
   "id": "162337aa",
   "metadata": {},
   "outputs": [
    {
     "name": "stdout",
     "output_type": "stream",
     "text": [
      "P y t h o n "
     ]
    }
   ],
   "source": [
    "for letter in 'Python':\n",
    "    print(letter, end=' ')\n"
   ]
  },
  {
   "cell_type": "code",
   "execution_count": null,
   "id": "44147a75",
   "metadata": {},
   "outputs": [],
   "source": [
    "end= ' ' 를 지정했으므로 한줄 출력된다."
   ]
  },
  {
   "cell_type": "code",
   "execution_count": 2,
   "id": "20d73b93",
   "metadata": {},
   "outputs": [
    {
     "name": "stdout",
     "output_type": "stream",
     "text": [
      "2\n",
      "2 * 1 = 2\n",
      "2 * 2 = 4\n",
      "2 * 3 = 6\n",
      "2 * 4 = 8\n",
      "2 * 5 = 10\n",
      "2 * 6 = 12\n",
      "2 * 7 = 14\n",
      "2 * 8 = 16\n",
      "2 * 9 = 18\n"
     ]
    }
   ],
   "source": [
    "x =int(input())\n",
    "for i in range(1, 10):\n",
    "    print(x, '*', i, '=', x * i)"
   ]
  },
  {
   "cell_type": "code",
   "execution_count": 4,
   "id": "c62c99a1",
   "metadata": {},
   "outputs": [
    {
     "name": "stdout",
     "output_type": "stream",
     "text": [
      "반복할 횟수를 입력하세요: 3\n",
      "Hello, world! 0\n",
      "Hello, world! 1\n",
      "Hello, world! 2\n"
     ]
    }
   ],
   "source": [
    "count = int(input('반복할 횟수를 입력하세요: '))\n",
    " \n",
    "i = 0\n",
    "while i < count:     # i가 count보다 작을 때 반복\n",
    "    print('Hello, world!', i)\n",
    "    i += 1"
   ]
  },
  {
   "cell_type": "markdown",
   "id": "9bdd28ba",
   "metadata": {},
   "source": [
    " while 반복문은 반복 횟수가 정해지지 않았을 때 주로 사용합니다.  \n",
    "\n",
    "이번에는 난수를 생성해서 숫자에 따라 반복을 끝내 보겠습니다.  \n",
    "난수(random number)란 특정 주기로 반복되지 않으며 규칙 없이 무작위로 나열되는 숫자를 뜻합니다.  \n",
    "현실에서 쉽게 접할 수 있는 난수가 바로 주사위를 굴려서 나온 숫자입니다."
   ]
  },
  {
   "cell_type": "code",
   "execution_count": 5,
   "id": "fb0f0a6e",
   "metadata": {},
   "outputs": [],
   "source": [
    "import random  # random 모듈을 가져옴"
   ]
  },
  {
   "cell_type": "code",
   "execution_count": 8,
   "id": "7e13e4a4",
   "metadata": {},
   "outputs": [
    {
     "data": {
      "text/plain": [
       "0.3103139369435153"
      ]
     },
     "execution_count": 8,
     "metadata": {},
     "output_type": "execute_result"
    }
   ],
   "source": [
    "random.random()"
   ]
  },
  {
   "cell_type": "markdown",
   "id": "94b9ea54",
   "metadata": {},
   "source": [
    "random.randint(a, b) # 범위가 지정된 난수"
   ]
  },
  {
   "cell_type": "code",
   "execution_count": 25,
   "id": "266e628c",
   "metadata": {},
   "outputs": [
    {
     "data": {
      "text/plain": [
       "1"
      ]
     },
     "execution_count": 25,
     "metadata": {},
     "output_type": "execute_result"
    }
   ],
   "source": [
    "random.randint(1, 6)"
   ]
  },
  {
   "cell_type": "code",
   "execution_count": 37,
   "id": "3921e53d",
   "metadata": {},
   "outputs": [
    {
     "data": {
      "text/plain": [
       "5"
      ]
     },
     "execution_count": 37,
     "metadata": {},
     "output_type": "execute_result"
    }
   ],
   "source": [
    "random.randint(3, 6) # 3~6 사이 숫자 생성"
   ]
  },
  {
   "cell_type": "code",
   "execution_count": 51,
   "id": "9aef6b79",
   "metadata": {},
   "outputs": [
    {
     "name": "stdout",
     "output_type": "stream",
     "text": [
      "5\n",
      "5\n",
      "4\n",
      "1\n",
      "4\n",
      "2\n",
      "4\n",
      "5\n",
      "2\n",
      "6\n",
      "3\n"
     ]
    }
   ],
   "source": [
    "import random\n",
    "\n",
    "i = 0\n",
    "while i !=3:\n",
    "    i = random.randint(1,6)\n",
    "    print(i)"
   ]
  },
  {
   "cell_type": "markdown",
   "id": "1bccd819",
   "metadata": {},
   "source": [
    "이제 이 코드를 여러 번 실행해봅니다.  \n",
    "실행 결과를 보면 정수가 무작위로 생성되어 실행할 때마다 반복 횟수가 달라지는 것을 볼 수 있습니다.  \n",
    "이처럼 while 반복문은 반복 횟수가 정해져 있지 않을 때 유용합니다."
   ]
  },
  {
   "cell_type": "markdown",
   "id": "7391f402",
   "metadata": {},
   "source": [
    "random.choice 함수를 사용하면 시퀀스 객체에서 요소를 무작위로 선택할 수 있습니다.  \n",
    "다음은 1, 2, 3, 4, 5, 6이 들어있는 리스트에서 무작위로 숫자를 선택합니다."
   ]
  },
  {
   "cell_type": "code",
   "execution_count": 55,
   "id": "9ac83e58",
   "metadata": {},
   "outputs": [
    {
     "data": {
      "text/plain": [
       "3"
      ]
     },
     "execution_count": 55,
     "metadata": {},
     "output_type": "execute_result"
    }
   ],
   "source": [
    "dice = [1, 2, 3, 4, 5, 6]\n",
    "random.choice(dice)"
   ]
  },
  {
   "cell_type": "markdown",
   "id": "5ee2656c",
   "metadata": {},
   "source": [
    "물론 random.choice 함수는 시퀀스 객체를 받으므로 리스트뿐만 아니라 튜플, range, 문자열 등을 넣어도 됩니다."
   ]
  },
  {
   "cell_type": "code",
   "execution_count": 57,
   "id": "e5effd1e",
   "metadata": {},
   "outputs": [
    {
     "ename": "IndentationError",
     "evalue": "expected an indented block (4109215799.py, line 2)",
     "output_type": "error",
     "traceback": [
      "\u001b[0;36m  File \u001b[0;32m\"/tmp/ipykernel_31/4109215799.py\"\u001b[0;36m, line \u001b[0;32m2\u001b[0m\n\u001b[0;31m    #print('Hello, world!')\u001b[0m\n\u001b[0m                           ^\u001b[0m\n\u001b[0;31mIndentationError\u001b[0m\u001b[0;31m:\u001b[0m expected an indented block\n"
     ]
    }
   ],
   "source": [
    "while True:    # while에 True를 지정하면 무한 루프\n",
    "    #print('Hello, world!')"
   ]
  },
  {
   "cell_type": "code",
   "execution_count": 58,
   "id": "17952c3d",
   "metadata": {},
   "outputs": [
    {
     "ename": "IndentationError",
     "evalue": "expected an indented block (683670635.py, line 2)",
     "output_type": "error",
     "traceback": [
      "\u001b[0;36m  File \u001b[0;32m\"/tmp/ipykernel_31/683670635.py\"\u001b[0;36m, line \u001b[0;32m2\u001b[0m\n\u001b[0;31m    #print('Hello, world!')\u001b[0m\n\u001b[0m                           ^\u001b[0m\n\u001b[0;31mIndentationError\u001b[0m\u001b[0;31m:\u001b[0m expected an indented block\n"
     ]
    }
   ],
   "source": [
    "while 1:    # 0이 아닌 숫자는 True로 취급하여 무한 루프로 동작\n",
    "    #print('Hello, world!')"
   ]
  },
  {
   "cell_type": "code",
   "execution_count": 60,
   "id": "08665bb3",
   "metadata": {},
   "outputs": [
    {
     "ename": "IndentationError",
     "evalue": "expected an indented block (1015611036.py, line 1)",
     "output_type": "error",
     "traceback": [
      "\u001b[0;36m  File \u001b[0;32m\"/tmp/ipykernel_31/1015611036.py\"\u001b[0;36m, line \u001b[0;32m1\u001b[0m\n\u001b[0;31m    while 'Hello': # 0이 아닌 숫자는 True로 취급하여 무한 루프로 동작\u001b[0m\n\u001b[0m                                                   ^\u001b[0m\n\u001b[0;31mIndentationError\u001b[0m\u001b[0;31m:\u001b[0m expected an indented block\n"
     ]
    }
   ],
   "source": [
    "while 'Hello': # 0이 아닌 숫자는 True로 취급하여 무한 루프로 동작"
   ]
  },
  {
   "cell_type": "markdown",
   "id": "b353c6e3",
   "metadata": {},
   "source": [
    "표준 입력으로 금액(정수)이 입력됩니다. 1회당 요금은 1,350원이고,  \n",
    "교통카드를 사용했을 때마다의 잔액을 각 줄에 출력하는 프로그램을 만드세요(input에서 안내 문자열은 출력하지 않아야 합니다).  \n",
    "단, 최초 금액은 출력하지 않아야 합니다. 그리고 잔액은 음수가 될 수 없으며 잔액이 부족하면 출력을 끝냅니다."
   ]
  },
  {
   "cell_type": "code",
   "execution_count": 69,
   "id": "3378d3b3",
   "metadata": {},
   "outputs": [
    {
     "name": "stdout",
     "output_type": "stream",
     "text": [
      "10000\n",
      "8650\n",
      "7300\n",
      "5950\n",
      "4600\n",
      "3250\n",
      "1900\n",
      "550\n"
     ]
    }
   ],
   "source": [
    "money = int(input())\n",
    "while money >=1350:\n",
    "    money = money - 1350 #money -= 1350\n",
    "    print(money)\n",
    "    "
   ]
  },
  {
   "cell_type": "code",
   "execution_count": 71,
   "id": "5a350415",
   "metadata": {},
   "outputs": [
    {
     "name": "stdout",
     "output_type": "stream",
     "text": [
      "0\n",
      "1\n",
      "2\n",
      "3\n",
      "4\n",
      "5\n",
      "6\n",
      "7\n",
      "8\n",
      "9\n"
     ]
    }
   ],
   "source": [
    "i = 0\n",
    "while True:    # 무한 루프\n",
    "    print(i)\n",
    "    i += 1          # i를 1씩 증가시킴\n",
    "    if i == 10:    # i가 10일 때\n",
    "        break       # 반복문을 끝냄. while의 제어흐름을 벗어남"
   ]
  },
  {
   "cell_type": "code",
   "execution_count": 72,
   "id": "4f1f9b8d",
   "metadata": {},
   "outputs": [
    {
     "name": "stdout",
     "output_type": "stream",
     "text": [
      "0\n",
      "1\n",
      "2\n",
      "3\n",
      "4\n",
      "5\n",
      "6\n",
      "7\n",
      "8\n",
      "9\n",
      "10\n"
     ]
    }
   ],
   "source": [
    "for i in range(10000):    # 0부터 9999까지 반복\n",
    "    print(i)\n",
    "    if i == 10:    # i가 10일 때\n",
    "        break       # 반복문을 끝냄. for의 제어흐름을 벗어남"
   ]
  },
  {
   "cell_type": "code",
   "execution_count": 74,
   "id": "eafdf858",
   "metadata": {},
   "outputs": [
    {
     "name": "stdout",
     "output_type": "stream",
     "text": [
      "1\n",
      "3\n",
      "5\n",
      "7\n",
      "9\n"
     ]
    }
   ],
   "source": [
    "for i in range(10):       # 0부터 9까지 증가하면서 10번 반복\n",
    "    if i % 2 == 0:         # i를 2로 나누었을 때 나머지가 0면 짝수\n",
    "        continue           # 아래 코드를 실행하지 않고 건너뜀\n",
    "    print(i)"
   ]
  },
  {
   "cell_type": "code",
   "execution_count": 75,
   "id": "d39c9861",
   "metadata": {},
   "outputs": [
    {
     "name": "stdout",
     "output_type": "stream",
     "text": [
      "1\n",
      "3\n",
      "5\n",
      "7\n",
      "9\n"
     ]
    }
   ],
   "source": [
    "i = 0\n",
    "while i < 10:        # i가 10보다 작을 때 반복. 0부터 9까지 증가하면서 10번 반복\n",
    "    i += 1            # i를 1씩 증가시킴\n",
    "    if i % 2 == 0:    # i를 2로 나누었을 때 나머지가 0이면 짝수\n",
    "        continue      # 아래 코드를 실행하지 않고 건너뜀\n",
    "    print(i)"
   ]
  },
  {
   "cell_type": "markdown",
   "id": "c662bfd1",
   "metadata": {},
   "source": [
    "for, while의 반복할 코드에서 아무 일도 하지 않지만, 반복문의 형태를 유지하고 싶다면 pass를 사용하면 됩니다."
   ]
  },
  {
   "cell_type": "code",
   "execution_count": 76,
   "id": "0c2f9b89",
   "metadata": {},
   "outputs": [],
   "source": [
    "for i in range(10):    # 10번 반복\n",
    "    pass               # 아무 일도 하지 않음"
   ]
  },
  {
   "cell_type": "code",
   "execution_count": 77,
   "id": "6d8c70e8",
   "metadata": {},
   "outputs": [
    {
     "ename": "KeyboardInterrupt",
     "evalue": "",
     "output_type": "error",
     "traceback": [
      "\u001b[0;31m---------------------------------------------------------------------------\u001b[0m",
      "\u001b[0;31mKeyboardInterrupt\u001b[0m                         Traceback (most recent call last)",
      "\u001b[0;32m/tmp/ipykernel_31/752004237.py\u001b[0m in \u001b[0;36m<module>\u001b[0;34m\u001b[0m\n\u001b[1;32m      1\u001b[0m \u001b[0;32mwhile\u001b[0m \u001b[0;32mTrue\u001b[0m\u001b[0;34m:\u001b[0m    \u001b[0;31m# 무한 루프\u001b[0m\u001b[0;34m\u001b[0m\u001b[0;34m\u001b[0m\u001b[0m\n\u001b[0;32m----> 2\u001b[0;31m     \u001b[0;32mpass\u001b[0m       \u001b[0;31m# 아무 일도 하지 않음\u001b[0m\u001b[0;34m\u001b[0m\u001b[0;34m\u001b[0m\u001b[0m\n\u001b[0m",
      "\u001b[0;31mKeyboardInterrupt\u001b[0m: "
     ]
    }
   ],
   "source": [
    "while True:    # 무한 루프\n",
    "    pass       # 아무 일도 하지 않음"
   ]
  },
  {
   "cell_type": "markdown",
   "id": "fe38c23a",
   "metadata": {},
   "source": [
    "표준 입력으로 정수 두 개가 입력됩니다(첫 번째 입력 값의 범위는 1 ~ 200, 두 번째 입력 값의 범위는 10 ~ 200이며  \n",
    "첫 번째 입력 값은 두 번째 입력 값보다 항상 작습니다).  \n",
    "다음 소스 코드를 완성하여 첫 번째 정수와 두 번째 정수 사이의 숫자 중 3으로 끝나지 않는 숫자가 출력되게 만드세요.  \n",
    "정답에 코드를 작성할 때는 while True:에 맞춰서 들여쓰기를 해주세요."
   ]
  },
  {
   "cell_type": "code",
   "execution_count": 80,
   "id": "694f2d5e",
   "metadata": {},
   "outputs": [
    {
     "name": "stdout",
     "output_type": "stream",
     "text": [
      "21 33\n",
      "21 22 24 25 26 27 28 29 30 31 32 "
     ]
    }
   ],
   "source": [
    "start, stop = map(int, input().split())\n",
    " #map 함수를 통해서 두개를 넣었다.\n",
    "i = start\n",
    " \n",
    "while True:\n",
    "    if i % 10 == 3:\n",
    "        i+=1\n",
    "        continue\n",
    "    if stop+1 == i:\n",
    "        break\n",
    "    print(i, end=' ')\n",
    "    i += 1"
   ]
  },
  {
   "cell_type": "code",
   "execution_count": null,
   "id": "cf444083",
   "metadata": {},
   "outputs": [],
   "source": []
  }
 ],
 "metadata": {
  "kernelspec": {
   "display_name": "Python 3 (ipykernel)",
   "language": "python",
   "name": "python3"
  },
  "language_info": {
   "codemirror_mode": {
    "name": "ipython",
    "version": 3
   },
   "file_extension": ".py",
   "mimetype": "text/x-python",
   "name": "python",
   "nbconvert_exporter": "python",
   "pygments_lexer": "ipython3",
   "version": "3.9.7"
  }
 },
 "nbformat": 4,
 "nbformat_minor": 5
}
