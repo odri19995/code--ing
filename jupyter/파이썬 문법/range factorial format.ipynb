{
 "cells": [
  {
   "cell_type": "code",
   "execution_count": 18,
   "id": "95329135",
   "metadata": {},
   "outputs": [],
   "source": [
    "def factorial(n):\n",
    "    if not isinstance(n,int) or n <0:\n",
    "        return None\n",
    "    if n == 1:\n",
    "        return 1\n",
    "    return n  *factorial(n-1)"
   ]
  },
  {
   "cell_type": "code",
   "execution_count": 19,
   "id": "b862b4b0",
   "metadata": {
    "scrolled": true
   },
   "outputs": [
    {
     "data": {
      "text/plain": [
       "6"
      ]
     },
     "execution_count": 19,
     "metadata": {},
     "output_type": "execute_result"
    }
   ],
   "source": [
    "factorial(3)"
   ]
  },
  {
   "cell_type": "code",
   "execution_count": 31,
   "id": "2569989a",
   "metadata": {},
   "outputs": [
    {
     "name": "stdout",
     "output_type": "stream",
     "text": [
      "숫자를 넣어주세요3\n",
      "[-10, -7, -4, -1, 2, 5, 8]\n"
     ]
    }
   ],
   "source": [
    "a= int(input(\"숫자를 넣어주세요\"))\n",
    "b= list(range(-10,10,a))\n",
    "print(b)\n",
    "    "
   ]
  },
  {
   "cell_type": "code",
   "execution_count": 41,
   "id": "45d78ac4",
   "metadata": {},
   "outputs": [
    {
     "name": "stdout",
     "output_type": "stream",
     "text": [
      "2\n",
      "(-10, -8, -6, -4, -2, 0, 2, 4, 6, 8)\n"
     ]
    }
   ],
   "source": [
    "a= int(input())\n",
    "b= tuple(range(-10,10,a))\n",
    "print(b)"
   ]
  },
  {
   "cell_type": "code",
   "execution_count": 40,
   "id": "0ce3e027",
   "metadata": {},
   "outputs": [
    {
     "name": "stdout",
     "output_type": "stream",
     "text": [
      "숫자를 넣어주세요2\n",
      "range(-10, 10, 2)\n"
     ]
    }
   ],
   "source": [
    "a= int(input(\"숫자를 넣어주세요\"))\n",
    "b= ((range(-10,10,a)))\n",
    "print(b)"
   ]
  },
  {
   "cell_type": "code",
   "execution_count": 44,
   "id": "be6756f8",
   "metadata": {},
   "outputs": [],
   "source": [
    "def plus10(x):\n",
    "    return x+10"
   ]
  },
  {
   "cell_type": "code",
   "execution_count": 2,
   "id": "e08ef93f",
   "metadata": {},
   "outputs": [],
   "source": [
    "def plus10(x):\n",
    "    return x +10"
   ]
  },
  {
   "cell_type": "code",
   "execution_count": 3,
   "id": "c991caec",
   "metadata": {},
   "outputs": [
    {
     "data": {
      "text/plain": [
       "12"
      ]
     },
     "execution_count": 3,
     "metadata": {},
     "output_type": "execute_result"
    }
   ],
   "source": [
    "plus10(2)"
   ]
  },
  {
   "cell_type": "code",
   "execution_count": 4,
   "id": "b90c18e5",
   "metadata": {},
   "outputs": [
    {
     "data": {
      "text/plain": [
       "12"
      ]
     },
     "execution_count": 4,
     "metadata": {},
     "output_type": "execute_result"
    }
   ],
   "source": [
    "plus10(2)"
   ]
  },
  {
   "cell_type": "code",
   "execution_count": 5,
   "id": "31862e29",
   "metadata": {},
   "outputs": [],
   "source": [
    "plus_ten = lambda x : x+10"
   ]
  },
  {
   "cell_type": "code",
   "execution_count": null,
   "id": "9d4e234c",
   "metadata": {},
   "outputs": [],
   "source": [
    "plus_ten = lambda x : x+10"
   ]
  },
  {
   "cell_type": "code",
   "execution_count": 46,
   "id": "0ff72bfb",
   "metadata": {},
   "outputs": [
    {
     "data": {
      "text/plain": [
       "12"
      ]
     },
     "execution_count": 46,
     "metadata": {},
     "output_type": "execute_result"
    }
   ],
   "source": [
    "plus_ten(2)"
   ]
  },
  {
   "cell_type": "code",
   "execution_count": 47,
   "id": "e2ad55dd",
   "metadata": {},
   "outputs": [
    {
     "data": {
      "text/plain": [
       "22"
      ]
     },
     "execution_count": 47,
     "metadata": {},
     "output_type": "execute_result"
    }
   ],
   "source": [
    "(lambda x : x+20)(2)"
   ]
  },
  {
   "cell_type": "code",
   "execution_count": 6,
   "id": "85c63d11",
   "metadata": {},
   "outputs": [
    {
     "data": {
      "text/plain": [
       "22"
      ]
     },
     "execution_count": 6,
     "metadata": {},
     "output_type": "execute_result"
    }
   ],
   "source": [
    "(lambda x : x +20)(2)"
   ]
  },
  {
   "cell_type": "code",
   "execution_count": 7,
   "id": "14c9567e",
   "metadata": {},
   "outputs": [],
   "source": [
    "a = [1, 2, 3, 4, 5, 6, 7, 8, 9, 10]"
   ]
  },
  {
   "cell_type": "code",
   "execution_count": 8,
   "id": "e31943d6",
   "metadata": {},
   "outputs": [
    {
     "data": {
      "text/plain": [
       "['1', 2.0, 13, 14, 15, 16, 17, 18, 19, 20]"
      ]
     },
     "execution_count": 8,
     "metadata": {},
     "output_type": "execute_result"
    }
   ],
   "source": [
    "list(map(lambda x :  str(x) if x ==1 else float(x) if x ==2 else x+10,a))"
   ]
  },
  {
   "cell_type": "code",
   "execution_count": 9,
   "id": "3ef4aa97",
   "metadata": {},
   "outputs": [
    {
     "data": {
      "text/plain": [
       "['1', 2.0, 13, 14, 15, 16, 17, 18, 19, 20]"
      ]
     },
     "execution_count": 9,
     "metadata": {},
     "output_type": "execute_result"
    }
   ],
   "source": [
    "list(map(lambda x: str(x) if x ==1 else float(x) if x ==2 else x+10,a))\n",
    "\n",
    "#list map(int ,대신에 람다 함수가 들어갔다. 의미를 살펴보면 x==1 일 경우 문자형으로 받고, x가 2일경우 실수형으로 받아라.)"
   ]
  },
  {
   "cell_type": "code",
   "execution_count": 13,
   "id": "ea733187",
   "metadata": {},
   "outputs": [
    {
     "data": {
      "text/plain": [
       "['1', 2.0, 13, 14, 15, 16, 17, 18, 19, 20]"
      ]
     },
     "execution_count": 13,
     "metadata": {},
     "output_type": "execute_result"
    }
   ],
   "source": [
    " def f(x):\n",
    "...     if x == 1:\n",
    "...         return str(x)\n",
    "...     elif x == 2:\n",
    "...         return float(x)\n",
    "...     else:\n",
    "...         return x + 10\n",
    "...\n",
    ">>> a = [1, 2, 3, 4, 5, 6, 7, 8, 9, 10]\n",
    ">>> list(map(f, a))"
   ]
  },
  {
   "cell_type": "code",
   "execution_count": 17,
   "id": "2fc1650d",
   "metadata": {},
   "outputs": [
    {
     "data": {
      "text/plain": [
       "['1', 2.0, 13, 14, 15, 16, 17, 18, 19, 20]"
      ]
     },
     "execution_count": 17,
     "metadata": {},
     "output_type": "execute_result"
    }
   ],
   "source": [
    "def f(x):\n",
    "    if x == 1:\n",
    "        return str(x)\n",
    "    elif x ==2:\n",
    "        return float(x)\n",
    "    else: \n",
    "        return x +10\n",
    "a = [1,2,3,4,5,6,7,8,9,10]\n",
    "list(map(f,a))"
   ]
  },
  {
   "cell_type": "code",
   "execution_count": 58,
   "id": "9ded9e70",
   "metadata": {},
   "outputs": [
    {
     "data": {
      "text/plain": [
       "[8, 7, 9]"
      ]
     },
     "execution_count": 58,
     "metadata": {},
     "output_type": "execute_result"
    }
   ],
   "source": [
    ">>> def f(x):\n",
    "...     return x > 5 and x < 10\n",
    "...\n",
    ">>> a = [8, 3, 2, 10, 15, 7, 1, 9, 0, 11]\n",
    ">>> list(filter(f, a))  "
   ]
  },
  {
   "cell_type": "code",
   "execution_count": 59,
   "id": "a36cf076",
   "metadata": {},
   "outputs": [
    {
     "data": {
      "text/plain": [
       "[True, False, False, False, False, True, False, True, False, False]"
      ]
     },
     "execution_count": 59,
     "metadata": {},
     "output_type": "execute_result"
    }
   ],
   "source": [
    ">>> def f(x):\n",
    "...     return x > 5 and x < 10\n",
    "...\n",
    ">>> a = [8, 3, 2, 10, 15, 7, 1, 9, 0, 11]\n",
    ">>> list(map(f, a))  "
   ]
  },
  {
   "cell_type": "code",
   "execution_count": 75,
   "id": "066df923",
   "metadata": {},
   "outputs": [
    {
     "data": {
      "text/plain": [
       "15"
      ]
     },
     "execution_count": 75,
     "metadata": {},
     "output_type": "execute_result"
    }
   ],
   "source": [
    "a=[1,2,3,4,5]\n",
    "\n",
    "x=a[0]\n",
    "\n",
    "for i in range(len(a)-1):\n",
    "    x= x + a[i+1]\n",
    "    \n",
    "    \n",
    "x\n",
    "    \n"
   ]
  },
  {
   "cell_type": "code",
   "execution_count": 62,
   "id": "a17dad32",
   "metadata": {},
   "outputs": [
    {
     "data": {
      "text/plain": [
       "range(0, 4)"
      ]
     },
     "execution_count": 62,
     "metadata": {},
     "output_type": "execute_result"
    }
   ],
   "source": [
    "range(len(a)-1)"
   ]
  },
  {
   "cell_type": "code",
   "execution_count": 64,
   "id": "3bb8cbd5",
   "metadata": {},
   "outputs": [
    {
     "data": {
      "text/plain": [
       "range(0, 5)"
      ]
     },
     "execution_count": 64,
     "metadata": {},
     "output_type": "execute_result"
    }
   ],
   "source": [
    "range(len(a))"
   ]
  },
  {
   "cell_type": "code",
   "execution_count": 71,
   "id": "8c99551e",
   "metadata": {},
   "outputs": [
    {
     "data": {
      "text/plain": [
       "[0, 1, 2, 3]"
      ]
     },
     "execution_count": 71,
     "metadata": {},
     "output_type": "execute_result"
    }
   ],
   "source": [
    "list(range(4))"
   ]
  },
  {
   "attachments": {
    "image.png": {
     "image/png": "[encoded data removed]"
    }
   },
   "cell_type": "markdown",
   "id": "54dec4ee",
   "metadata": {},
   "source": [
    "![image.png](attachment:image.png)"
   ]
  },
  {
   "cell_type": "markdown",
   "id": "effc9e04",
   "metadata": {},
   "source": [
    "먼저 문자열에서 find 메서드를 사용하면 찾을 문자열이 있을 때 인덱스를 반환하고 없을 때는 -1을 반환합니다. 그래서 조건식은 x.find('.jpg') != -1 or x.find('.png') != -1과 같이 만들고 .jpg, .png 둘 중 하나라도 참이면 되므로 find를 or 연산자로 연결해주면 됩니다."
   ]
  },
  {
   "cell_type": "code",
   "execution_count": 76,
   "id": "a869bff2",
   "metadata": {},
   "outputs": [
    {
     "name": "stdout",
     "output_type": "stream",
     "text": [
      "['1.png', '10.jpg', '2.jpg', '3.png']\n"
     ]
    }
   ],
   "source": [
    "files = ['font', '1.png', '10.jpg', '11.gif', '2.jpg', '3.png', 'table.xslx', 'spec.docx']\n",
    "\n",
    "print(list(filter(lambda x: x.find('.jpg') != -1 or x.find('.png') != -1, files)))"
   ]
  },
  {
   "attachments": {
    "image.png": {
     "image/png": "[encoded data removed]"
    }
   },
   "cell_type": "markdown",
   "id": "836a59de",
   "metadata": {},
   "source": [
    "![image.png](attachment:image.png)"
   ]
  },
  {
   "cell_type": "code",
   "execution_count": null,
   "id": "fd0348f1",
   "metadata": {},
   "outputs": [],
   "source": [
    "1.jpg 10.png 11.png 2.jpg 3.png"
   ]
  },
  {
   "cell_type": "code",
   "execution_count": 85,
   "id": "4d35aacd",
   "metadata": {},
   "outputs": [
    {
     "name": "stdout",
     "output_type": "stream",
     "text": [
      "사랑해\n"
     ]
    }
   ],
   "source": [
    "print(\"{}해\".format(\"사랑\"))"
   ]
  },
  {
   "cell_type": "code",
   "execution_count": 88,
   "id": "656896df",
   "metadata": {
    "scrolled": true
   },
   "outputs": [
    {
     "name": "stdout",
     "output_type": "stream",
     "text": [
      "값을 넣어주세요 :1.jpg 10.png 11.png 2.jpg 3.png\n",
      "['1.jpg', '10.png', '11.png', '2.jpg', '3.png']\n"
     ]
    }
   ],
   "source": [
    "files = input(\"값을 넣어주세요 :\").split()\n",
    "\n",
    "print(files)"
   ]
  },
  {
   "cell_type": "markdown",
   "id": "c74dfa96",
   "metadata": {},
   "source": [
    "리스트 files에는 문자열로 된 파일 이름이 들어갑니다. 이 리스트에서 모든 요소를 지정된 함수로 처리해야 하므로 map 함수를 사용해야 합니다.\n",
    "\n",
    "먼저 람다 표현식을 작성할 때 매개변수로 받은 문자열을 조작해서 001.png, 099.docx, 100.xlsx 같은 형식이 되어야 합니다. 따라서 문자열 포매팅을 '{0:03d}.{1}'와 같이 만들어줍니다. 먼저 {0:03d}는 파일 이름 부분이며 숫자 1은 001, 99는 099, 100은 100처럼 숫자 3개로 만들고 앞에 0이 들어갑니다. 그리고 {1}은 확장자 부분이며 문자열이 그대로 들어갑니다.\n",
    "\n",
    "이제 '{0:03d}.{1}'에 format 메서드를 사용해서 내용을 채웁니다. 먼저 문자열은 split('.')처럼 '.'을 기준으로 분리해서 파일 이름과 확장자로 나눕니다. 그리고 lambda에서 매개변수로 x를 지정했다면 int(x.split('.')[0])과 같이 파일 이름 부분을 얻습니다. 즉, 1.png는 split('.')으로 분리했을 때 리스트 ['1', 'png']가 나오는데 첫 번째 요소를 사용해야 하므로 [0]입니다. 그리고 {0:03d}에는 숫자가 들어가야 하므로 int를 사용해서 정수로 변환해줍니다.\n",
    "\n",
    "확장자는 x.split('.')[1]처럼 문자열을 '.'으로 분리했을 때 두 번째 요소를 사용합니다. 람다 표현식에서는 새 변수를 사용할 수 없으므로 이렇게 매번 split 메서드를 사용하여 파일 이름과 확장자 부분을 얻어야 합니다.\n",
    "\n",
    "마지막으로 출력 결과는 리스트 형태라 하므로 map 부분을 list로 묶어줍니다."
   ]
  },
  {
   "cell_type": "code",
   "execution_count": 1,
   "id": "388cda9f",
   "metadata": {},
   "outputs": [
    {
     "ename": "SyntaxError",
     "evalue": "leading zeros in decimal integer literals are not permitted; use an 0o prefix for octal integers (2797135513.py, line 3)",
     "output_type": "error",
     "traceback": [
      "\u001b[1;36m  File \u001b[1;32m\"C:\\Users\\Administrator\\AppData\\Local\\Temp\\ipykernel_10180\\2797135513.py\"\u001b[1;36m, line \u001b[1;32m3\u001b[0m\n\u001b[1;33m    print(list(map(lambda x : {0:03d.{1}}  int(x.split('.')[0]),files))\u001b[0m\n\u001b[1;37m                                  ^\u001b[0m\n\u001b[1;31mSyntaxError\u001b[0m\u001b[1;31m:\u001b[0m leading zeros in decimal integer literals are not permitted; use an 0o prefix for octal integers\n"
     ]
    }
   ],
   "source": [
    "files = input().split()\n",
    "\n",
    "print(list(map(lambda x : {0:03d.{1}}  int(x.split('.')[0]),files))\n"
   ]
  },
  {
   "cell_type": "code",
   "execution_count": 91,
   "id": "13085381",
   "metadata": {},
   "outputs": [
    {
     "data": {
      "text/plain": [
       "['0', 'png']"
      ]
     },
     "execution_count": 91,
     "metadata": {},
     "output_type": "execute_result"
    }
   ],
   "source": [
    "\"0.png\".split('.')"
   ]
  },
  {
   "cell_type": "code",
   "execution_count": 9,
   "id": "acb49abf",
   "metadata": {
    "scrolled": true
   },
   "outputs": [
    {
     "name": "stdout",
     "output_type": "stream",
     "text": [
      "1.jpg 10.png 11.png 2.jpg 3.png\n",
      "['001.jpg', '010.png', '011.png', '002.jpg', '003.png']\n"
     ]
    }
   ],
   "source": [
    "files = input().split()\n",
    "print(list(map(lambda x: '{0:03d}.{1}'.format(int(x.split('.')[0]),x.split('.')[1]) ,files)))  #int(x.split(\".\")[0]. 앞부분 숫자부분을 말한다.\n",
    "\n",
    "# {0:03d}와 {0:3d} 의 차이 0.3 d는 0 부분이 공백으로 나온다. "
   ]
  },
  {
   "cell_type": "code",
   "execution_count": 108,
   "id": "84b8f0cb",
   "metadata": {},
   "outputs": [
    {
     "name": "stdout",
     "output_type": "stream",
     "text": [
      "1.yes\n"
     ]
    }
   ],
   "source": [
    "print(\"{0}.{1}\".format(1,\"yes\")) # 앞의 0과 1은 순서일 뿐이다."
   ]
  },
  {
   "cell_type": "code",
   "execution_count": 106,
   "id": "8ccef5a6",
   "metadata": {},
   "outputs": [
    {
     "name": "stdout",
     "output_type": "stream",
     "text": [
      "001.yes\n"
     ]
    }
   ],
   "source": [
    "print(\"{0:03d}.{1}\".format(1,\"yes\"))"
   ]
  },
  {
   "cell_type": "code",
   "execution_count": 96,
   "id": "fe05e4e8",
   "metadata": {},
   "outputs": [
    {
     "data": {
      "text/plain": [
       "'I am james.'"
      ]
     },
     "execution_count": 96,
     "metadata": {},
     "output_type": "execute_result"
    }
   ],
   "source": [
    " 'I am %s.' % 'james'"
   ]
  },
  {
   "cell_type": "code",
   "execution_count": 97,
   "id": "57806779",
   "metadata": {},
   "outputs": [
    {
     "data": {
      "text/plain": [
       "'today is 3월'"
      ]
     },
     "execution_count": 97,
     "metadata": {},
     "output_type": "execute_result"
    }
   ],
   "source": [
    "\"today is %d%s\" %(3,\"월\")"
   ]
  },
  {
   "cell_type": "code",
   "execution_count": 109,
   "id": "774a9972",
   "metadata": {},
   "outputs": [
    {
     "data": {
      "text/plain": [
       "'Hello, Python 3.6 Script'"
      ]
     },
     "execution_count": 109,
     "metadata": {},
     "output_type": "execute_result"
    }
   ],
   "source": [
    " 'Hello, {0} {2} {1}'.format('Python', 'Script', 3.6)\n",
    "'Hello, Python 3.6 Script'"
   ]
  },
  {
   "cell_type": "code",
   "execution_count": 110,
   "id": "4968b6e2",
   "metadata": {},
   "outputs": [
    {
     "data": {
      "text/plain": [
       "'Python Python Script Script'"
      ]
     },
     "execution_count": 110,
     "metadata": {},
     "output_type": "execute_result"
    }
   ],
   "source": [
    "'{0} {0} {1} {1}'.format('Python', 'Script')\n",
    "'Python Python Script Script'"
   ]
  },
  {
   "cell_type": "code",
   "execution_count": 112,
   "id": "f36de2b8",
   "metadata": {},
   "outputs": [
    {
     "data": {
      "text/plain": [
       "'Hello kim simin'"
      ]
     },
     "execution_count": 112,
     "metadata": {},
     "output_type": "execute_result"
    }
   ],
   "source": [
    "first = \"kim\"\n",
    "second =\"simin\"\n",
    "\n",
    "f'Hello {first} {second}'"
   ]
  },
  {
   "cell_type": "code",
   "execution_count": null,
   "id": "bffd43c7",
   "metadata": {},
   "outputs": [],
   "source": []
  }
 ],
 "metadata": {
  "kernelspec": {
   "display_name": "Python 3 (ipykernel)",
   "language": "python",
   "name": "python3"
  },
  "language_info": {
   "codemirror_mode": {
    "name": "ipython",
    "version": 3
   },
   "file_extension": ".py",
   "mimetype": "text/x-python",
   "name": "python",
   "nbconvert_exporter": "python",
   "pygments_lexer": "ipython3",
   "version": "3.9.13"
  }
 },
 "nbformat": 4,
 "nbformat_minor": 5
}
