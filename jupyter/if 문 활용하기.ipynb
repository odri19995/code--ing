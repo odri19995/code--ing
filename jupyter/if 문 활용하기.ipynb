{
 "cells": [
  {
   "cell_type": "markdown",
   "id": "7f6de3f3",
   "metadata": {},
   "source": [
    "## if 조건문 사용하기"
   ]
  },
  {
   "cell_type": "markdown",
   "id": "efa87641",
   "metadata": {},
   "source": [
    "## 13.1 if 조건문 사용하기\n",
    "if 조건문은 if에 조건식을 지정하고 :(콜론)을 붙이며 다음 줄에 실행할 코드가 옵니다. 이때 실행할 코드는 반드시 들여쓰기를 해야 합니다."
   ]
  },
  {
   "cell_type": "code",
   "execution_count": 3,
   "id": "5781ff04",
   "metadata": {},
   "outputs": [
    {
     "name": "stdout",
     "output_type": "stream",
     "text": [
      "10입니다.\n"
     ]
    }
   ],
   "source": [
    "x = 10\n",
    "if x == 10:\n",
    "    print('10입니다.')\n",
    "    "
   ]
  },
  {
   "cell_type": "markdown",
   "id": "46a3680e",
   "metadata": {},
   "source": [
    "이번에는 if 조건문에 조건식만 작성하고 코드를 생략하는 방법을 알아보겠습니다"
   ]
  },
  {
   "cell_type": "code",
   "execution_count": 4,
   "id": "ed292b00",
   "metadata": {},
   "outputs": [],
   "source": [
    "x = 10\n",
    "if x == 10:\n",
    "    pass # TODO: x가 10일 때 처리가 필요함  주석을 달아 나중에 찾아서 처리가 쉽게 한다."
   ]
  },
  {
   "cell_type": "markdown",
   "id": "11f4bd56",
   "metadata": {},
   "source": [
    "표준 입력으로 가격(정수)과 쿠폰 이름이 각 줄에 입력됩니다. Cash3000 쿠폰은 3,000원, Cash5000 쿠폰은 5,000원을 할인합니다. 쿠폰에 따라 할인된 가격을 출력하는 프로그램을 만드세요(input에서 안내 문자열은 출력하지 않아야 합니다).\n",
    "\n",
    "judge_if.py"
   ]
  },
  {
   "cell_type": "code",
   "execution_count": 8,
   "id": "69fd124a",
   "metadata": {},
   "outputs": [
    {
     "name": "stdout",
     "output_type": "stream",
     "text": [
      "10000\n",
      "Cash3000\n",
      "7000\n"
     ]
    }
   ],
   "source": [
    "money = int(input())\n",
    "coupon = input()\n",
    "\n",
    "if coupon == 'Cash3000':\n",
    "    print(money- 3000)\n",
    "if coupon == 'Cash5000':\n",
    "    print(money - 5000)"
   ]
  },
  {
   "cell_type": "markdown",
   "id": "01d740d8",
   "metadata": {},
   "source": [
    "A 기업의 입사 시험은 필기 시험 점수가 80점 이상이면서 코딩 시험을 통과해야 합격이라고 정했습니다(코딩 시험 통과 여부는 True, False로 구분). 다음 소스 코드를 완성하여 '합격', '불합격'이 출력되게 만드세요."
   ]
  },
  {
   "cell_type": "code",
   "execution_count": 11,
   "id": "a0644f6f",
   "metadata": {},
   "outputs": [
    {
     "name": "stdout",
     "output_type": "stream",
     "text": [
      "불합격\n"
     ]
    }
   ],
   "source": [
    "written_test = 75\n",
    "coding_test = True\n",
    "\n",
    "if written_test >= 80 and coding_test :\n",
    "    print('합격')\n",
    "else:\n",
    "    print('불합격')"
   ]
  },
  {
   "cell_type": "markdown",
   "id": "4e05a418",
   "metadata": {},
   "source": [
    "## 심화 문제\n",
    "\n",
    "표준 입력으로 국어, 영어, 수학, 과학 점수가 입력됩니다. 여기서 네 과목의 평균 점수가 80점 이상일 때 합격이라고 정했습니다. 평균 점수에 따라 '합격', '불합격'을 출력하는 프로그램을 만드세요(input에서 안내 문자열은 출력하지 않아야 합니다). 단, 점수는 0점부터 100점까지만 입력받을 수 있으며 범위를 벗어났다면 '잘못된 점수'를 출력하고 합격, 불합격 여부는 출력하지 않아야 합니다"
   ]
  },
  {
   "cell_type": "code",
   "execution_count": 15,
   "id": "df65cf42",
   "metadata": {},
   "outputs": [
    {
     "name": "stdout",
     "output_type": "stream",
     "text": [
      "1 2 3 4\n"
     ]
    }
   ],
   "source": [
    "a,b,c,d = map(int,input().split()) #a=국어 b= 영어 c= 수학 d= 과학"
   ]
  },
  {
   "cell_type": "code",
   "execution_count": 22,
   "id": "4c8b8a32",
   "metadata": {},
   "outputs": [
    {
     "name": "stdout",
     "output_type": "stream",
     "text": [
      "85 90 100 75\n",
      "합격\n"
     ]
    }
   ],
   "source": [
    "a,b,c,d = map(int,input().split()) #a=국어 b= 영어 c= 수학 d= 과학\n",
    "average = (a + b + c + d)/4\n",
    "\n",
    "if 0<=a<=100 and 0<=b<=100 and 0<=c<=100 and 0<=d<=100:\n",
    "    if average >= 80:\n",
    "        print(\"합격\")\n",
    "    else :\n",
    "        print(\"불합격\")\n",
    "else:\n",
    "    print(\"잘못된 점수\")"
   ]
  },
  {
   "cell_type": "markdown",
   "id": "90dd085b",
   "metadata": {},
   "source": [
    "표준 입력으로 나이(만 나이)가 입력됩니다(입력 값은 7 이상 입력됨).<br> 교통카드 시스템에서 시내버스 요금은 다음과 같으며 각 나이에 맞게 요금을 차감한 뒤 잔액이 출력되게 만드세요(if, elif 사용). 현재 교통카드에는 9,000원이 들어있습니다.\n",
    "\n",
    "어린이(초등학생, 만 7세 이상 12세 이하): 650원<br>\n",
    "청소년(중∙고등학생, 만 13세 이상 18세 이하): 1,050원<br>\n",
    "어른(일반, 만 19세 이상): 1,250원\n",
    "judge_if_elif.py"
   ]
  },
  {
   "cell_type": "code",
   "execution_count": 25,
   "id": "1791cc73",
   "metadata": {},
   "outputs": [
    {
     "name": "stdout",
     "output_type": "stream",
     "text": [
      "19\n",
      "7750\n"
     ]
    }
   ],
   "source": [
    "age = int(input())\n",
    "balance = 9000    # 교통카드 잔액\n",
    "\n",
    "if age >=7:\n",
    "    if age <= 12:\n",
    "        balance -=650\n",
    "    elif 13<= age <=18 :\n",
    "        balance -=1050\n",
    "    else :\n",
    "        balance -=1250\n",
    "        \n",
    "print(balance)\n",
    "    "
   ]
  }
 ],
 "metadata": {
  "kernelspec": {
   "display_name": "Python 3 (ipykernel)",
   "language": "python",
   "name": "python3"
  },
  "language_info": {
   "codemirror_mode": {
    "name": "ipython",
    "version": 3
   },
   "file_extension": ".py",
   "mimetype": "text/x-python",
   "name": "python",
   "nbconvert_exporter": "python",
   "pygments_lexer": "ipython3",
   "version": "3.9.13"
  }
 },
 "nbformat": 4,
 "nbformat_minor": 5
}
