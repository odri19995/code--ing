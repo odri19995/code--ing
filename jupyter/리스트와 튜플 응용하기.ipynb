{
 "cells": [
  {
   "cell_type": "code",
   "execution_count": 1,
   "id": "56a96297",
   "metadata": {},
   "outputs": [],
   "source": [
    "a= [10,20,30]"
   ]
  },
  {
   "cell_type": "code",
   "execution_count": 2,
   "id": "8e2e153e",
   "metadata": {},
   "outputs": [],
   "source": [
    "a.append(40)"
   ]
  },
  {
   "cell_type": "code",
   "execution_count": 3,
   "id": "d2f7bfa7",
   "metadata": {},
   "outputs": [
    {
     "data": {
      "text/plain": [
       "[10, 20, 30, 40]"
      ]
     },
     "execution_count": 3,
     "metadata": {},
     "output_type": "execute_result"
    }
   ],
   "source": [
    "a"
   ]
  },
  {
   "cell_type": "code",
   "execution_count": 4,
   "id": "57a9f988",
   "metadata": {},
   "outputs": [
    {
     "data": {
      "text/plain": [
       "4"
      ]
     },
     "execution_count": 4,
     "metadata": {},
     "output_type": "execute_result"
    }
   ],
   "source": [
    "len(a)"
   ]
  },
  {
   "cell_type": "code",
   "execution_count": 7,
   "id": "32ed4b69",
   "metadata": {},
   "outputs": [
    {
     "data": {
      "text/plain": [
       "[10, 20, 500, 30]"
      ]
     },
     "execution_count": 7,
     "metadata": {},
     "output_type": "execute_result"
    }
   ],
   "source": [
    "# 특정인덱스 위치에 추가하기\n",
    "\n",
    "\n",
    "a = [10, 20, 30]\n",
    "a.insert(2, 500) # a에서 3번째 자리에 500을 집어 넣어라\n",
    "\n",
    "a"
   ]
  },
  {
   "cell_type": "code",
   "execution_count": 10,
   "id": "d292ee80",
   "metadata": {},
   "outputs": [
    {
     "data": {
      "text/plain": [
       "[500, 10, 20, 30]"
      ]
     },
     "execution_count": 10,
     "metadata": {},
     "output_type": "execute_result"
    }
   ],
   "source": [
    "# 특정인덱스 위치에 추가하기\n",
    "\n",
    "\n",
    "a = [10, 20, 30]\n",
    "a.insert(0, 500) # 맨앞에 0을 추가한다.\n",
    "\n",
    "a"
   ]
  },
  {
   "cell_type": "markdown",
   "id": "4b5db7fe",
   "metadata": {},
   "source": [
    "#   리스트 확장하기\n",
    "리스트에 요소를 여러 개 추가하려면 어떻게 해야 할까요? append를 여러 번 사용하는 방법도 있지만, 추가할 요소가 많은 경우에는 상당히 번거롭습니다. 이때는 extend를 사용합니다."
   ]
  },
  {
   "cell_type": "markdown",
   "id": "25932248",
   "metadata": {},
   "source": [
    "extend(리스트)는 리스트 끝에 다른 리스트를 연결하여 리스트를 확장합니다. "
   ]
  },
  {
   "cell_type": "code",
   "execution_count": 9,
   "id": "07ecd3f8",
   "metadata": {},
   "outputs": [
    {
     "data": {
      "text/plain": [
       "[10, 20, 30, 500, 600]"
      ]
     },
     "execution_count": 9,
     "metadata": {},
     "output_type": "execute_result"
    }
   ],
   "source": [
    "a = [10,20,30]\n",
    "a.extend([500,600])\n",
    "\n",
    "a"
   ]
  },
  {
   "cell_type": "markdown",
   "id": "291d3dbb",
   "metadata": {},
   "source": [
    "리스트가 길고 맨 끝에 추가하고 싶을때"
   ]
  },
  {
   "cell_type": "code",
   "execution_count": 19,
   "id": "530f3d1f",
   "metadata": {},
   "outputs": [
    {
     "data": {
      "text/plain": [
       "[0, 1, 2, 3, 4, 5, 6, 7, 8, 9, 600]"
      ]
     },
     "execution_count": 19,
     "metadata": {},
     "output_type": "execute_result"
    }
   ],
   "source": [
    "a= list(range(10))\n",
    "a.insert(len(a),600)\n",
    "a"
   ]
  },
  {
   "cell_type": "code",
   "execution_count": 24,
   "id": "40031d02",
   "metadata": {},
   "outputs": [],
   "source": [
    "a.insert(1,[1,2]) #중첩 리스트 활용"
   ]
  },
  {
   "cell_type": "code",
   "execution_count": 21,
   "id": "8ed0bbef",
   "metadata": {},
   "outputs": [
    {
     "data": {
      "text/plain": [
       "[0, [1.5, 1.7], 1, 2, 3, 4, 5, 6, 7, 8, 9, 600]"
      ]
     },
     "execution_count": 21,
     "metadata": {},
     "output_type": "execute_result"
    }
   ],
   "source": [
    "a"
   ]
  },
  {
   "cell_type": "code",
   "execution_count": 23,
   "id": "c19a30b0",
   "metadata": {},
   "outputs": [
    {
     "data": {
      "text/plain": [
       "[0, [1, 2], [1.5, 1.7], 1, 2, 3, 4, 5, 6, 7, 8, 9, 600]"
      ]
     },
     "execution_count": 23,
     "metadata": {},
     "output_type": "execute_result"
    }
   ],
   "source": [
    "a"
   ]
  },
  {
   "cell_type": "markdown",
   "id": "0d6ed88d",
   "metadata": {},
   "source": [
    "#### 리스트 중간에 여러개 사용하기 "
   ]
  },
  {
   "cell_type": "code",
   "execution_count": 25,
   "id": "284a987f",
   "metadata": {},
   "outputs": [
    {
     "data": {
      "text/plain": [
       "[10, 500, 600, 20, 30]"
      ]
     },
     "execution_count": 25,
     "metadata": {},
     "output_type": "execute_result"
    }
   ],
   "source": [
    "a = [10, 20, 30]\n",
    "a[1:1] = [500, 600] #증복리스트를 사용하지 않고 안에 넣을 수 있다.\n",
    "a"
   ]
  },
  {
   "cell_type": "code",
   "execution_count": 31,
   "id": "4f2bd93b",
   "metadata": {},
   "outputs": [
    {
     "data": {
      "text/plain": [
       "[10, 500, 600, 900, 30]"
      ]
     },
     "execution_count": 31,
     "metadata": {},
     "output_type": "execute_result"
    }
   ],
   "source": [
    "a = [10, 20, 30]\n",
    "a[1:2] = [500, 600,900]\n",
    "a"
   ]
  },
  {
   "cell_type": "code",
   "execution_count": 32,
   "id": "1ef50400",
   "metadata": {},
   "outputs": [
    {
     "data": {
      "text/plain": [
       "[10, 500, 600, 900]"
      ]
     },
     "execution_count": 32,
     "metadata": {},
     "output_type": "execute_result"
    }
   ],
   "source": [
    "a = [10, 20, 30]\n",
    "a[1:3] = [500, 600,900]\n",
    "a"
   ]
  },
  {
   "cell_type": "code",
   "execution_count": 38,
   "id": "61480dfa",
   "metadata": {},
   "outputs": [
    {
     "name": "stdout",
     "output_type": "stream",
     "text": [
      "[]\n",
      "[10]\n",
      "[10, 20, 30]\n"
     ]
    }
   ],
   "source": [
    "a = [10, 20, 30]\n",
    "print(a[1:1])\n",
    "print(a[0:1])\n",
    "print(a[0:3])"
   ]
  },
  {
   "cell_type": "markdown",
   "id": "a207945d",
   "metadata": {},
   "source": [
    "리스트에서 요소 삭제하기  -pop 맨 뒤의 값 하나를 삭제한다. "
   ]
  },
  {
   "cell_type": "code",
   "execution_count": 39,
   "id": "abbba52c",
   "metadata": {},
   "outputs": [
    {
     "data": {
      "text/plain": [
       "[10, 20]"
      ]
     },
     "execution_count": 39,
     "metadata": {},
     "output_type": "execute_result"
    }
   ],
   "source": [
    ">>> a = [10, 20, 30]\n",
    ">>> a.pop()\n",
    "30\n",
    ">>> a\n",
    "[10, 20]"
   ]
  },
  {
   "cell_type": "markdown",
   "id": "cf1b791a",
   "metadata": {},
   "source": [
    "리스트에서 요소 삭제하기  -remove 특정값을 찾아서 삭제한다."
   ]
  },
  {
   "cell_type": "markdown",
   "id": "3a4dc4cd",
   "metadata": {},
   "source": [
    "만약 리스트에 같은 값이 여러 개 있을 경우 처음 찾은 값을 삭제합니다"
   ]
  },
  {
   "cell_type": "code",
   "execution_count": null,
   "id": "8a6e0515",
   "metadata": {},
   "outputs": [],
   "source": [
    "a = [10, 20, 30, 20]\n",
    ">>> a.remove(20)\n",
    ">>> a\n",
    "[10, 30, 20]"
   ]
  },
  {
   "cell_type": "markdown",
   "id": "7e5837ab",
   "metadata": {},
   "source": [
    "리스트에서 특정 값의 인덱스 구하기"
   ]
  },
  {
   "cell_type": "code",
   "execution_count": 42,
   "id": "837a81e1",
   "metadata": {},
   "outputs": [
    {
     "data": {
      "text/plain": [
       "1"
      ]
     },
     "execution_count": 42,
     "metadata": {},
     "output_type": "execute_result"
    }
   ],
   "source": [
    "a = [10, 20, 30, 15, 20, 40]\n",
    "a.index(20)\n"
   ]
  },
  {
   "cell_type": "markdown",
   "id": "8dbaa5f5",
   "metadata": {},
   "source": [
    " 특정 값의 개수 구하기"
   ]
  },
  {
   "cell_type": "code",
   "execution_count": 43,
   "id": "e065665e",
   "metadata": {},
   "outputs": [
    {
     "data": {
      "text/plain": [
       "2"
      ]
     },
     "execution_count": 43,
     "metadata": {},
     "output_type": "execute_result"
    }
   ],
   "source": [
    "a = [10, 20, 30, 15, 20, 40]\n",
    "a.count(20)\n",
    "2"
   ]
  },
  {
   "cell_type": "markdown",
   "id": "48281514",
   "metadata": {},
   "source": [
    "리스트의 순서를 뒤집기"
   ]
  },
  {
   "cell_type": "code",
   "execution_count": 45,
   "id": "a0f35054",
   "metadata": {},
   "outputs": [
    {
     "data": {
      "text/plain": [
       "[40, 20, 15, 30, 20, 10]"
      ]
     },
     "execution_count": 45,
     "metadata": {},
     "output_type": "execute_result"
    }
   ],
   "source": [
    "a = [10, 20, 30, 15, 20, 40]\n",
    "a.reverse()\n",
    "a"
   ]
  },
  {
   "cell_type": "markdown",
   "id": "9ca4b1bd",
   "metadata": {},
   "source": [
    "리스트의 요소를 정렬하기"
   ]
  },
  {
   "cell_type": "markdown",
   "id": "6de88ef6",
   "metadata": {},
   "source": [
    "sort()는 리스트의 요소을 작은 순서대로 정렬합니다(오름차순)"
   ]
  },
  {
   "cell_type": "code",
   "execution_count": 46,
   "id": "e715fecd",
   "metadata": {},
   "outputs": [
    {
     "data": {
      "text/plain": [
       "[10, 15, 20, 30, 40]"
      ]
     },
     "execution_count": 46,
     "metadata": {},
     "output_type": "execute_result"
    }
   ],
   "source": [
    "a = [10, 20, 30, 15, 40]\n",
    "a.sort()\n",
    "a"
   ]
  },
  {
   "cell_type": "code",
   "execution_count": 48,
   "id": "53c6e5a6",
   "metadata": {},
   "outputs": [
    {
     "data": {
      "text/plain": [
       "[40, 30, 20, 15, 10]"
      ]
     },
     "execution_count": 48,
     "metadata": {},
     "output_type": "execute_result"
    }
   ],
   "source": [
    "#내림차순\n",
    "\n",
    "a.sort(reverse=True)\n",
    "a"
   ]
  },
  {
   "attachments": {
    "image.png": {
     "image/png": "[encoded data removed]"
    }
   },
   "cell_type": "markdown",
   "id": "be49322d",
   "metadata": {},
   "source": [
    "![image.png](attachment:image.png)"
   ]
  },
  {
   "cell_type": "markdown",
   "id": "79a9afa0",
   "metadata": {},
   "source": [
    "### 리스트의 모든 요소를 삭제하기"
   ]
  },
  {
   "cell_type": "code",
   "execution_count": 49,
   "id": "f7f34029",
   "metadata": {},
   "outputs": [
    {
     "data": {
      "text/plain": [
       "[]"
      ]
     },
     "execution_count": 49,
     "metadata": {},
     "output_type": "execute_result"
    }
   ],
   "source": [
    "a = [10, 20, 30]\n",
    "a.clear()\n",
    "a\n",
    "[]"
   ]
  },
  {
   "cell_type": "markdown",
   "id": "c6411836",
   "metadata": {},
   "source": [
    "리스트는 메서드를 사용하지 않고, 슬라이스로 조작할 수도 있습니다. 다음은 리스트 끝에 값이 한 개 들어있는 리스트를 추가합니다."
   ]
  },
  {
   "cell_type": "code",
   "execution_count": 50,
   "id": "8ebf8c72",
   "metadata": {},
   "outputs": [
    {
     "data": {
      "text/plain": [
       "[10, 20, 30, 500]"
      ]
     },
     "execution_count": 50,
     "metadata": {},
     "output_type": "execute_result"
    }
   ],
   "source": [
    "a = [10, 20, 30]\n",
    ">>> a[len(a):] = [500]\n",
    ">>> a\n",
    "[10, 20, 30, 500]"
   ]
  },
  {
   "attachments": {
    "image.png": {
     "image/png": "[encoded data removed]"
    }
   },
   "cell_type": "markdown",
   "id": "1b46ce3d",
   "metadata": {},
   "source": [
    "![image.png](attachment:image.png)"
   ]
  },
  {
   "cell_type": "code",
   "execution_count": 54,
   "id": "472896f8",
   "metadata": {},
   "outputs": [],
   "source": [
    "seq = []\n",
    "if seq:               # 리스트에 요소가 있는지 확인\n",
    "    print(seq[-1]) "
   ]
  },
  {
   "cell_type": "markdown",
   "id": "118811cc",
   "metadata": {},
   "source": [
    "### 22.2 리스트의 할당과 복사 알아보기"
   ]
  },
  {
   "cell_type": "code",
   "execution_count": 2,
   "id": "fc09f000",
   "metadata": {},
   "outputs": [],
   "source": [
    "\n",
    "a = [0, 0, 0, 0, 0]  #할당\n",
    "b = a"
   ]
  },
  {
   "cell_type": "code",
   "execution_count": 3,
   "id": "b8b0970d",
   "metadata": {},
   "outputs": [
    {
     "data": {
      "text/plain": [
       "[0, 0, 0, 0, 0]"
      ]
     },
     "execution_count": 3,
     "metadata": {},
     "output_type": "execute_result"
    }
   ],
   "source": [
    "b"
   ]
  },
  {
   "cell_type": "code",
   "execution_count": 8,
   "id": "bddfa104",
   "metadata": {},
   "outputs": [
    {
     "name": "stdout",
     "output_type": "stream",
     "text": [
      "[0, 0, 99, 0, 0]\n",
      "[0, 0, 99, 0, 0]\n"
     ]
    }
   ],
   "source": [
    "#a와 b는 같으므로 b[2] = 99와 같이 리스트 b의 요소를 변경하면 리스트 a와 b에 모두 반영됩니다.\n",
    "\n",
    "b[2] = 99\n",
    "print(a)\n",
    "print(b)\n",
    "\n"
   ]
  },
  {
   "cell_type": "code",
   "execution_count": 9,
   "id": "1e90d9ca",
   "metadata": {},
   "outputs": [],
   "source": [
    "a = [0, 0, 0, 0, 0]\n",
    "b = a.copy()"
   ]
  },
  {
   "cell_type": "markdown",
   "id": "8455a627",
   "metadata": {},
   "source": [
    "a와 b를 is 연산자로 비교해보면 False가 나옵니다. 즉, 두 리스트는 다른 객체입니다. 그러나 복사된 요소는 모두 같으므로 ==로 비교하면 True가 나옵니다."
   ]
  },
  {
   "cell_type": "code",
   "execution_count": 10,
   "id": "dde3d0ed",
   "metadata": {},
   "outputs": [
    {
     "data": {
      "text/plain": [
       "False"
      ]
     },
     "execution_count": 10,
     "metadata": {},
     "output_type": "execute_result"
    }
   ],
   "source": [
    "a is b"
   ]
  },
  {
   "cell_type": "markdown",
   "id": "a67bfb2b",
   "metadata": {},
   "source": [
    "이제 리스트 a와 b는 별개이므로 한쪽의 값을 변경해도 다른 리스트에 영향을 미치지 않습니다. 다음과 같이 리스트 b의 요소를 변경하면 리스트 a는 그대로이고 리스트 b만 바뀝니다."
   ]
  },
  {
   "cell_type": "code",
   "execution_count": 12,
   "id": "31a0f73a",
   "metadata": {},
   "outputs": [
    {
     "name": "stdout",
     "output_type": "stream",
     "text": [
      "[0, 0, 0, 0, 0]\n",
      "[0, 0, 99, 0, 0]\n"
     ]
    }
   ],
   "source": [
    "b[2] = 99\n",
    "\n",
    "print(a)\n",
    "print(b)"
   ]
  },
  {
   "cell_type": "markdown",
   "id": "814889dc",
   "metadata": {},
   "source": [
    "### 22.3 반복문으로 리스트의 요소를 모두 출력하기"
   ]
  },
  {
   "cell_type": "markdown",
   "id": "05c4b52b",
   "metadata": {},
   "source": [
    "for 변수 in 리스트:<br>\n",
    "     반복할 코드"
   ]
  },
  {
   "cell_type": "code",
   "execution_count": 14,
   "id": "02029a33",
   "metadata": {},
   "outputs": [
    {
     "name": "stdout",
     "output_type": "stream",
     "text": [
      "38\n",
      "21\n",
      "53\n",
      "62\n",
      "19\n"
     ]
    }
   ],
   "source": [
    "a = [38, 21, 53, 62, 19]\n",
    "\n",
    "for i in a:\n",
    "    print(i)"
   ]
  },
  {
   "cell_type": "code",
   "execution_count": 15,
   "id": "e603a9f4",
   "metadata": {},
   "outputs": [
    {
     "name": "stdout",
     "output_type": "stream",
     "text": [
      "38\n",
      "21\n",
      "53\n",
      "62\n",
      "19\n"
     ]
    }
   ],
   "source": [
    "#리스트를 직접 지정해도 상관없다.\n",
    "\n",
    "for i in [38, 21, 53, 62, 19]:\n",
    "    print(i)"
   ]
  },
  {
   "cell_type": "markdown",
   "id": "d624dc36",
   "metadata": {},
   "source": [
    "### 인덱스와 요소를 함께 출력하기"
   ]
  },
  {
   "cell_type": "markdown",
   "id": "9118eda5",
   "metadata": {},
   "source": [
    "그럼 for 반복문으로 요소를 출력할 때 인덱스도 함께 출력하려면 어떻게 해야 할까요? 이때는 enumerate를 사용합니다."
   ]
  },
  {
   "cell_type": "code",
   "execution_count": 18,
   "id": "20a2d1d5",
   "metadata": {},
   "outputs": [
    {
     "name": "stdout",
     "output_type": "stream",
     "text": [
      "0 38\n",
      "1 21\n",
      "2 53\n",
      "3 62\n",
      "4 19\n"
     ]
    }
   ],
   "source": [
    "for i, k in enumerate(a):\n",
    "    print(i,k)"
   ]
  },
  {
   "cell_type": "code",
   "execution_count": 19,
   "id": "e28305d1",
   "metadata": {},
   "outputs": [
    {
     "name": "stdout",
     "output_type": "stream",
     "text": [
      "0 38\n",
      "1 21\n",
      "2 53\n",
      "3 62\n",
      "4 19\n"
     ]
    }
   ],
   "source": [
    "for index, value in enumerate([38, 21, 53, 62, 19]):\n",
    "    print(index,value)"
   ]
  },
  {
   "cell_type": "code",
   "execution_count": 20,
   "id": "fd8a7230",
   "metadata": {},
   "outputs": [
    {
     "name": "stdout",
     "output_type": "stream",
     "text": [
      "1 38\n",
      "2 21\n",
      "3 53\n",
      "4 62\n",
      "5 19\n"
     ]
    }
   ],
   "source": [
    "#인덱스를 1부터 출력하고 싶을 경우\n",
    "for i, k in enumerate(a):\n",
    "    print(i+1,k)"
   ]
  },
  {
   "cell_type": "markdown",
   "id": "9daf9f23",
   "metadata": {},
   "source": [
    "하지만 좀 더 파이썬 다운 방법이 있습니다. 다음과 같이 enumerate에 start를 지정해주면 됩니다."
   ]
  },
  {
   "cell_type": "markdown",
   "id": "7ff2f7ba",
   "metadata": {},
   "source": [
    "for 인덱스, 요소 in enumerate(리스트, start=숫자):"
   ]
  },
  {
   "cell_type": "code",
   "execution_count": 21,
   "id": "4fda2129",
   "metadata": {},
   "outputs": [
    {
     "name": "stdout",
     "output_type": "stream",
     "text": [
      "1 38\n",
      "2 21\n",
      "3 53\n",
      "4 62\n",
      "5 19\n"
     ]
    }
   ],
   "source": [
    "for index,value in enumerate(a,start=1):\n",
    "    print(index,value)"
   ]
  },
  {
   "cell_type": "code",
   "execution_count": 22,
   "id": "bcb03823",
   "metadata": {},
   "outputs": [
    {
     "name": "stdout",
     "output_type": "stream",
     "text": [
      "4 38\n",
      "5 21\n",
      "6 53\n",
      "7 62\n",
      "8 19\n"
     ]
    }
   ],
   "source": [
    "for index,value in enumerate(a,start=4):\n",
    "    print(index,value)"
   ]
  },
  {
   "cell_type": "markdown",
   "id": "6793d492",
   "metadata": {},
   "source": [
    "### 이번에는 while 반복문으로 리스트의 요소를 출력해보겠습니다."
   ]
  },
  {
   "cell_type": "code",
   "execution_count": 24,
   "id": "b34788fa",
   "metadata": {},
   "outputs": [
    {
     "name": "stdout",
     "output_type": "stream",
     "text": [
      "38\n",
      "21\n",
      "53\n",
      "62\n",
      "19\n"
     ]
    }
   ],
   "source": [
    "a= [38, 21, 53, 62, 19]\n",
    "i=0  #while 문은 초깃값이 중요한거 같다. \n",
    "while i < len(a):\n",
    "    print(a[i])\n",
    "    i += 1"
   ]
  },
  {
   "cell_type": "code",
   "execution_count": 25,
   "id": "fb01cfb0",
   "metadata": {},
   "outputs": [
    {
     "name": "stdout",
     "output_type": "stream",
     "text": [
      "38\n",
      "21\n",
      "53\n",
      "62\n",
      "19\n"
     ]
    },
    {
     "ename": "IndexError",
     "evalue": "list index out of range",
     "output_type": "error",
     "traceback": [
      "\u001b[1;31m---------------------------------------------------------------------------\u001b[0m",
      "\u001b[1;31mIndexError\u001b[0m                                Traceback (most recent call last)",
      "\u001b[1;32m~\\AppData\\Local\\Temp\\ipykernel_1260\\1352469449.py\u001b[0m in \u001b[0;36m<module>\u001b[1;34m\u001b[0m\n\u001b[0;32m      2\u001b[0m \u001b[0mi\u001b[0m \u001b[1;33m=\u001b[0m \u001b[1;36m0\u001b[0m\u001b[1;33m\u001b[0m\u001b[1;33m\u001b[0m\u001b[0m\n\u001b[0;32m      3\u001b[0m \u001b[1;32mwhile\u001b[0m \u001b[0mi\u001b[0m \u001b[1;33m<=\u001b[0m \u001b[0mlen\u001b[0m\u001b[1;33m(\u001b[0m\u001b[0ma\u001b[0m\u001b[1;33m)\u001b[0m\u001b[1;33m:\u001b[0m \u001b[1;31m#a[5]는 존재 안하기 때문에 오류가 뜬다.\u001b[0m\u001b[1;33m\u001b[0m\u001b[1;33m\u001b[0m\u001b[0m\n\u001b[1;32m----> 4\u001b[1;33m     \u001b[0mprint\u001b[0m\u001b[1;33m(\u001b[0m\u001b[0ma\u001b[0m\u001b[1;33m[\u001b[0m\u001b[0mi\u001b[0m\u001b[1;33m]\u001b[0m\u001b[1;33m)\u001b[0m\u001b[1;33m\u001b[0m\u001b[1;33m\u001b[0m\u001b[0m\n\u001b[0m\u001b[0;32m      5\u001b[0m     \u001b[0mi\u001b[0m \u001b[1;33m+=\u001b[0m \u001b[1;36m1\u001b[0m\u001b[1;33m\u001b[0m\u001b[1;33m\u001b[0m\u001b[0m\n",
      "\u001b[1;31mIndexError\u001b[0m: list index out of range"
     ]
    }
   ],
   "source": [
    ">>> a = [38, 21, 53, 62, 19]\n",
    ">>> i = 0\n",
    ">>> while i <= len(a): #a[5]는 존재 안하기 때문에 오류가 뜬다.\n",
    "...     print(a[i])\n",
    "...     i += 1"
   ]
  },
  {
   "cell_type": "markdown",
   "id": "df0058c5",
   "metadata": {},
   "source": [
    "### 22.4.1  가장 작은 수와 가장 큰 수 구하기"
   ]
  },
  {
   "cell_type": "code",
   "execution_count": 26,
   "id": "77900560",
   "metadata": {},
   "outputs": [
    {
     "data": {
      "text/plain": [
       "19"
      ]
     },
     "execution_count": 26,
     "metadata": {},
     "output_type": "execute_result"
    }
   ],
   "source": [
    "a = [38, 21, 53, 62, 19]\n",
    "smallest = a[0]\n",
    "for i in a:\n",
    "    if i < smallest:\n",
    "        smallest = i\n",
    "smallest\n"
   ]
  },
  {
   "cell_type": "code",
   "execution_count": 27,
   "id": "8bd7ba67",
   "metadata": {},
   "outputs": [
    {
     "data": {
      "text/plain": [
       "62"
      ]
     },
     "execution_count": 27,
     "metadata": {},
     "output_type": "execute_result"
    }
   ],
   "source": [
    "a = [38, 21, 53, 62, 19]\n",
    "smallest = a[0]\n",
    "for i in a:\n",
    "    if i > smallest:\n",
    "        smallest = i\n",
    "smallest\n"
   ]
  },
  {
   "cell_type": "markdown",
   "id": "ac107a30",
   "metadata": {},
   "source": [
    "i의 요소를 한개씩 가면서 비교한다."
   ]
  },
  {
   "cell_type": "code",
   "execution_count": 28,
   "id": "3da18955",
   "metadata": {},
   "outputs": [
    {
     "data": {
      "text/plain": [
       "62"
      ]
     },
     "execution_count": 28,
     "metadata": {},
     "output_type": "execute_result"
    }
   ],
   "source": [
    ">>> a = [38, 21, 53, 62, 19]\n",
    ">>> a.sort()\n",
    ">>> a[0]\n",
    "19\n",
    ">>> a.sort(reverse=True)\n",
    ">>> a[0]\n",
    "62"
   ]
  },
  {
   "cell_type": "markdown",
   "id": "a0c5fe3c",
   "metadata": {},
   "source": [
    "더 간단한 방법이 있습니다. 파이썬에서 제공하는 min, max 함수를 사용하면 됩니다"
   ]
  },
  {
   "cell_type": "code",
   "execution_count": 29,
   "id": "0674a819",
   "metadata": {},
   "outputs": [
    {
     "data": {
      "text/plain": [
       "62"
      ]
     },
     "execution_count": 29,
     "metadata": {},
     "output_type": "execute_result"
    }
   ],
   "source": [
    ">>> a = [38, 21, 53, 62, 19]\n",
    ">>> min(a)\n",
    "19\n",
    ">>> max(a)\n",
    "62"
   ]
  },
  {
   "cell_type": "markdown",
   "id": "3f646e9b",
   "metadata": {},
   "source": [
    " 리스트에서 요소의 합계를 구해보겠습니다. 합계를 구할 때도 반복문을 사용할 수 있겠죠?"
   ]
  },
  {
   "cell_type": "code",
   "execution_count": 31,
   "id": "f1871eba",
   "metadata": {},
   "outputs": [
    {
     "data": {
      "text/plain": [
       "50"
      ]
     },
     "execution_count": 31,
     "metadata": {},
     "output_type": "execute_result"
    }
   ],
   "source": [
    "a = [10, 10, 10, 10, 10]\n",
    ">>> x = 0\n",
    ">>> for i in a:\n",
    "...     x += i\n",
    "...\n",
    ">>> x\n",
    "50"
   ]
  },
  {
   "cell_type": "code",
   "execution_count": 33,
   "id": "5f91c344",
   "metadata": {},
   "outputs": [
    {
     "data": {
      "text/plain": [
       "50"
      ]
     },
     "execution_count": 33,
     "metadata": {},
     "output_type": "execute_result"
    }
   ],
   "source": [
    ">>> a = [10, 10, 10, 10, 10]\n",
    ">>> sum(a)"
   ]
  },
  {
   "cell_type": "markdown",
   "id": "82af0e52",
   "metadata": {},
   "source": [
    "리스트 표현식은 for와 if를 여러 번 사용할 수도 있습니다."
   ]
  },
  {
   "cell_type": "code",
   "execution_count": 34,
   "id": "30f64cb0",
   "metadata": {},
   "outputs": [],
   "source": [
    " a = [i * j for j in range(2, 10) for i in range(1, 10)]"
   ]
  },
  {
   "cell_type": "code",
   "execution_count": 35,
   "id": "e9f29cd9",
   "metadata": {},
   "outputs": [
    {
     "data": {
      "text/plain": [
       "[2,\n",
       " 4,\n",
       " 6,\n",
       " 8,\n",
       " 10,\n",
       " 12,\n",
       " 14,\n",
       " 16,\n",
       " 18,\n",
       " 3,\n",
       " 6,\n",
       " 9,\n",
       " 12,\n",
       " 15,\n",
       " 18,\n",
       " 21,\n",
       " 24,\n",
       " 27,\n",
       " 4,\n",
       " 8,\n",
       " 12,\n",
       " 16,\n",
       " 20,\n",
       " 24,\n",
       " 28,\n",
       " 32,\n",
       " 36,\n",
       " 5,\n",
       " 10,\n",
       " 15,\n",
       " 20,\n",
       " 25,\n",
       " 30,\n",
       " 35,\n",
       " 40,\n",
       " 45,\n",
       " 6,\n",
       " 12,\n",
       " 18,\n",
       " 24,\n",
       " 30,\n",
       " 36,\n",
       " 42,\n",
       " 48,\n",
       " 54,\n",
       " 7,\n",
       " 14,\n",
       " 21,\n",
       " 28,\n",
       " 35,\n",
       " 42,\n",
       " 49,\n",
       " 56,\n",
       " 63,\n",
       " 8,\n",
       " 16,\n",
       " 24,\n",
       " 32,\n",
       " 40,\n",
       " 48,\n",
       " 56,\n",
       " 64,\n",
       " 72,\n",
       " 9,\n",
       " 18,\n",
       " 27,\n",
       " 36,\n",
       " 45,\n",
       " 54,\n",
       " 63,\n",
       " 72,\n",
       " 81]"
      ]
     },
     "execution_count": 35,
     "metadata": {},
     "output_type": "execute_result"
    }
   ],
   "source": [
    "a"
   ]
  },
  {
   "cell_type": "code",
   "execution_count": 36,
   "id": "24b91302",
   "metadata": {},
   "outputs": [],
   "source": [
    "a = [i * j for j in range(2, 10)\n",
    "           for i in range(1, 10)]"
   ]
  },
  {
   "attachments": {
    "image.png": {
     "image/png": "[encoded data removed]"
    }
   },
   "cell_type": "markdown",
   "id": "9da032bb",
   "metadata": {},
   "source": [
    "![image.png](attachment:image.png)"
   ]
  },
  {
   "cell_type": "code",
   "execution_count": 37,
   "id": "c1875d1b",
   "metadata": {},
   "outputs": [],
   "source": [
    " a = [1.2, 2.5, 3.7, 4.6]\n",
    "for i in range(len(a)):\n",
    "    a[i] = int(a[i])"
   ]
  },
  {
   "cell_type": "code",
   "execution_count": 38,
   "id": "0d0fd379",
   "metadata": {},
   "outputs": [
    {
     "data": {
      "text/plain": [
       "[1, 2, 3, 4]"
      ]
     },
     "execution_count": 38,
     "metadata": {},
     "output_type": "execute_result"
    }
   ],
   "source": [
    "a"
   ]
  },
  {
   "cell_type": "code",
   "execution_count": 40,
   "id": "034a1abe",
   "metadata": {},
   "outputs": [],
   "source": [
    "a= [1.8, 1.9,2.0]\n",
    "for i in range(len(a)):\n",
    "    a[i] = int(a[i])"
   ]
  },
  {
   "cell_type": "code",
   "execution_count": 41,
   "id": "6cfcad92",
   "metadata": {},
   "outputs": [],
   "source": [
    "a= [1.8, 1.9,2.0]\n",
    "a= list(map(int,a))"
   ]
  },
  {
   "cell_type": "code",
   "execution_count": 42,
   "id": "a9b283f8",
   "metadata": {},
   "outputs": [
    {
     "data": {
      "text/plain": [
       "[1, 1, 2]"
      ]
     },
     "execution_count": 42,
     "metadata": {},
     "output_type": "execute_result"
    }
   ],
   "source": [
    "a"
   ]
  },
  {
   "cell_type": "code",
   "execution_count": 43,
   "id": "3bf06410",
   "metadata": {},
   "outputs": [],
   "source": [
    "a=list(map(str,a))"
   ]
  },
  {
   "cell_type": "code",
   "execution_count": 44,
   "id": "fc38871f",
   "metadata": {},
   "outputs": [
    {
     "data": {
      "text/plain": [
       "['1', '1', '2']"
      ]
     },
     "execution_count": 44,
     "metadata": {},
     "output_type": "execute_result"
    }
   ],
   "source": [
    "a"
   ]
  },
  {
   "cell_type": "markdown",
   "id": "2b4a910d",
   "metadata": {},
   "source": [
    "a, b = map(int, input().split())을 풀어서 쓰면 다음과 같은 코드가 됩니다."
   ]
  },
  {
   "cell_type": "code",
   "execution_count": 45,
   "id": "7a27491d",
   "metadata": {},
   "outputs": [
    {
     "name": "stdout",
     "output_type": "stream",
     "text": [
      "1 2\n"
     ]
    }
   ],
   "source": [
    "x = input().split()    # input().split()의 결과는 문자열 리스트\n",
    "m = map(int, x)        # 리스트의 요소를 int로 변환, 결과는 맵 객체\n",
    "a, b = m    "
   ]
  },
  {
   "cell_type": "code",
   "execution_count": 50,
   "id": "5b2cf251",
   "metadata": {},
   "outputs": [
    {
     "name": "stdout",
     "output_type": "stream",
     "text": [
      "1 2 3\n"
     ]
    }
   ],
   "source": [
    "x = input().split()    # input().split()의 결과는 문자열 리스트\n",
    "m = map(int, x)        # 리스트의 요소를 int로 변환, 결과는 맵 객체\n",
    "a, b, c = m    \n"
   ]
  },
  {
   "cell_type": "code",
   "execution_count": 53,
   "id": "60e16f67",
   "metadata": {},
   "outputs": [],
   "source": [
    "a = [1.3,2.3,4.5,7.6]\n",
    "a = map(int,a) #list 를 안씌어주면 map 객체로 나온다 "
   ]
  },
  {
   "cell_type": "code",
   "execution_count": 52,
   "id": "5c09f0d5",
   "metadata": {},
   "outputs": [
    {
     "data": {
      "text/plain": [
       "<map at 0x18c468642e0>"
      ]
     },
     "execution_count": 52,
     "metadata": {},
     "output_type": "execute_result"
    }
   ],
   "source": [
    "a"
   ]
  },
  {
   "cell_type": "markdown",
   "id": "ecc3db65",
   "metadata": {},
   "source": [
    "### 22.9 연습문제: 리스트에서 특정 요소만 뽑아내기"
   ]
  },
  {
   "cell_type": "markdown",
   "id": "6819aacf",
   "metadata": {},
   "source": [
    "다음 소스 코드를 완성하여 리스트 a에 들어있는 문자열 중에서 길이가 5인 것들만 리스트 형태로 출력되게 만드세요(리스트 표현식 사용)."
   ]
  },
  {
   "cell_type": "code",
   "execution_count": 56,
   "id": "b5798d6c",
   "metadata": {},
   "outputs": [
    {
     "name": "stdout",
     "output_type": "stream",
     "text": [
      "['alpha', 'bravo', 'delta', 'hotel', 'india']\n"
     ]
    }
   ],
   "source": [
    "a = ['alpha', 'bravo', 'charlie', 'delta', 'echo', 'foxtrot', 'golf', 'hotel', 'india']\n",
    "b = [i for i in a if len(i)==5]                         \n",
    " \n",
    "print(b)"
   ]
  },
  {
   "cell_type": "markdown",
   "id": "ba53d47b",
   "metadata": {},
   "source": [
    "표준 입력으로 정수 두 개가 입력됩니다(첫 번째 입력 값의 범위는 1\\~20, 두 번째 입력 값의 범위는 10\\~30이며 첫 번째 입력 값은 두 번째 입력 값보다 항상 작습니다). 첫 번째 정수부터 두 번째 정수까지를 지수로 하는 2의 거듭제곱 리스트를 출력하는 프로그램을 만드세요(input에서 안내 문자열은 출력하지 않아야 합니다). 단, 리스트의 두 번째 요소와 뒤에서 두 번째 요소는 삭제한 뒤 출력하세요. 출력 결과는 리스트 형태라야 합니다."
   ]
  },
  {
   "cell_type": "code",
   "execution_count": 74,
   "id": "f7a6b65b",
   "metadata": {},
   "outputs": [
    {
     "name": "stdout",
     "output_type": "stream",
     "text": [
      "1 10\n",
      "[2, 8, 16, 32, 64, 128, 256, 1024]\n"
     ]
    }
   ],
   "source": [
    "a,b= map(int,input().split(' '))\n",
    "if 1<=a<20 and 10<=b<=30:\n",
    "    x=[2**i for i in range(a,b+1)]\n",
    "    x.pop(1)\n",
    "    x.pop(-2)\n",
    "    print(x)\n",
    "else:\n",
    "    print(\" 잘못된 범위입니다.\")"
   ]
  },
  {
   "cell_type": "code",
   "execution_count": 75,
   "id": "b38ccc41",
   "metadata": {},
   "outputs": [
    {
     "name": "stdout",
     "output_type": "stream",
     "text": [
      "40 50\n",
      "[1099511627776, 4398046511104, 8796093022208, 17592186044416, 35184372088832, 70368744177664, 140737488355328, 281474976710656, 1125899906842624]\n"
     ]
    }
   ],
   "source": [
    "a,b = map(int, input().split())\n",
    "List = [2 ** i for i in range(a,b + 1)]\n",
    "del List[1]\n",
    "del List[-2]\n",
    "print(List)"
   ]
  },
  {
   "cell_type": "code",
   "execution_count": null,
   "id": "12081160",
   "metadata": {},
   "outputs": [],
   "source": []
  }
 ],
 "metadata": {
  "kernelspec": {
   "display_name": "Python 3 (ipykernel)",
   "language": "python",
   "name": "python3"
  },
  "language_info": {
   "codemirror_mode": {
    "name": "ipython",
    "version": 3
   },
   "file_extension": ".py",
   "mimetype": "text/x-python",
   "name": "python",
   "nbconvert_exporter": "python",
   "pygments_lexer": "ipython3",
   "version": "3.9.13"
  }
 },
 "nbformat": 4,
 "nbformat_minor": 5
}
