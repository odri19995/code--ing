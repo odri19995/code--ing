{
 "cells": [
  {
   "cell_type": "markdown",
   "id": "f5edbf95",
   "metadata": {},
   "source": [
    "'''\n",
    "전제<br>\n",
    "신경망에는 적응 가능한 가중치와 편향이 있고, 이 가중치와 편향을 훈련 데이터에 적응하도록 조정하는 과정을 '학습'이라 한다.<br>\n",
    "신경망 학습은 다음과 같이 4단계로 수행한다.<br><br>\n",
    "1단계 - 미니배치<br>\n",
    "훈련 데이터 중 일부를 무작위로 가져온다. 이렇게 선별한 데이터를 미니배치라 하며,<br>\n",
    "그 미니배치의 손실함수 값을 줄이는 것이 목표이다.<br><br>\n",
    "2단계 - 기울기 산출<br>\n",
    "미니배치의 손실 함수 값을 줄이기 위해 각 가중치 매개변수의 기울기를 구한다.<br>\n",
    "기울기는 손실 함수의 값을 가장 작게 하는 방향을 제시한다.<br><br>\n",
    "3단계 - 매개변수 갱신<br>\n",
    "가중치 매개변수를 기울기 방향으로 아주 조금 갱신한다.<br><br>\n",
    "4단계 - 반복<br>\n",
    "1~3단계를 반복한다.<br>\n",
    "데이터를 무작위로 선정하기 때문에 확률적 경사 하강법stochastic gradient descent,<br>\n",
    "SGD라고 부른다.<br>\n",
    "\n",
    "'''"
   ]
  },
  {
   "cell_type": "code",
   "execution_count": 4,
   "id": "fde36258",
   "metadata": {},
   "outputs": [],
   "source": [
    "import sys\n",
    "import os\n",
    "import numpy as np\n",
    "sys.path.append(\"C:\\\\Users\\\\Administrator\\\\jupyter\\\\deep-learning-from-scratch-master\")\n",
    "from common.functions import *\n",
    "from common.gradient import numerical_gradient"
   ]
  },
  {
   "cell_type": "code",
   "execution_count": 5,
   "id": "9ec7efdb",
   "metadata": {},
   "outputs": [],
   "source": [
    "class TwoLayerNet:\n",
    "\n",
    "    def __init__(self, input_size, hidden_size, output_size, weight_init_std=0.01):\n",
    "        # 가중치 초기화\n",
    "        self.params = {}\n",
    "        self.params['W1'] = weight_init_std * np.random.randn(input_size, hidden_size)\n",
    "        self.params['b1'] = np.zeros(hidden_size)\n",
    "        self.params['W2'] = weight_init_std * np.random.randn(hidden_size, output_size)\n",
    "        self.params['b2'] = np.zeros(output_size)\n",
    "\n",
    "    def predict(self, x):\n",
    "        W1, W2 = self.params['W1'], self.params['W2']\n",
    "        b1, b2 = self.params['b1'], self.params['b2']\n",
    "    \n",
    "        a1 = np.dot(x, W1) + b1\n",
    "        z1 = sigmoid(a1)\n",
    "        a2 = np.dot(z1, W2) + b2\n",
    "        y = softmax(a2)\n",
    "        \n",
    "        return y\n",
    "        \n",
    "    # x : 입력 데이터, t : 정답 레이블\n",
    "    def loss(self, x, t):\n",
    "        y = self.predict(x)\n",
    "        \n",
    "        return cross_entropy_error(y, t)\n",
    "    \n",
    "    def accuracy(self, x, t):\n",
    "        y = self.predict(x)\n",
    "        y = np.argmax(y, axis=1)\n",
    "        t = np.argmax(t, axis=1)\n",
    "        \n",
    "        accuracy = np.sum(y == t) / float(x.shape[0])\n",
    "        return accuracy\n",
    "        \n",
    "    # x : 입력 데이터, t : 정답 레이블\n",
    "    def numerical_gradient(self, x, t):\n",
    "        loss_W = lambda W: self.loss(x, t)\n",
    "        \n",
    "        grads = {}\n",
    "        grads['W1'] = numerical_gradient(loss_W, self.params['W1'])\n",
    "        grads['b1'] = numerical_gradient(loss_W, self.params['b1'])\n",
    "        grads['W2'] = numerical_gradient(loss_W, self.params['W2'])\n",
    "        grads['b2'] = numerical_gradient(loss_W, self.params['b2'])\n",
    "        \n",
    "        return grads\n",
    "        \n",
    "    def gradient(self, x, t):\n",
    "        W1, W2 = self.params['W1'], self.params['W2']\n",
    "        b1, b2 = self.params['b1'], self.params['b2']\n",
    "        grads = {}\n",
    "        \n",
    "        batch_num = x.shape[0]\n",
    "        \n",
    "        # forward\n",
    "        a1 = np.dot(x, W1) + b1\n",
    "        z1 = sigmoid(a1)\n",
    "        a2 = np.dot(z1, W2) + b2\n",
    "        y = softmax(a2)\n",
    "        \n",
    "        # backward\n",
    "        dy = (y - t) / batch_num\n",
    "        grads['W2'] = np.dot(z1.T, dy)\n",
    "        grads['b2'] = np.sum(dy, axis=0)\n",
    "        \n",
    "        da1 = np.dot(dy, W2.T)\n",
    "        dz1 = sigmoid_grad(a1) * da1\n",
    "        grads['W1'] = np.dot(x.T, dz1)\n",
    "        grads['b1'] = np.sum(dz1, axis=0)\n",
    "\n",
    "        return grads"
   ]
  },
  {
   "cell_type": "code",
   "execution_count": 6,
   "id": "6e36703f",
   "metadata": {
    "scrolled": true
   },
   "outputs": [
    {
     "name": "stdout",
     "output_type": "stream",
     "text": [
      "(784, 100)\n",
      "(100,)\n",
      "(100, 10)\n",
      "(10,)\n",
      "(784, 100)\n",
      "(100,)\n",
      "(100, 10)\n",
      "(10,)\n"
     ]
    }
   ],
   "source": [
    "if __name__ == '__main__':\n",
    "    net = TwoLayerNet(input_size=784, hidden_size=100, output_size=10)\n",
    "    print(net.params['W1'].shape)  # (784, 100)\n",
    "    print(net.params['b1'].shape)  # (100,)\n",
    "    print(net.params['W2'].shape)  # (100, 10)\n",
    "    print(net.params['b2'].shape)  # (10,)\n",
    "\n",
    "    x = np.random.rand(100, 784)  # 더미 입력 데이터(100장 분량)\n",
    "    t = np.random.rand(100, 10)   # 더미 정답 레이블(100장 분량)\n",
    "\n",
    "    grads = net.numerical_gradient(x, t)  # 기울기 계산\n",
    "    # 주의 : 실행하는데 아주 오래걸림\n",
    "    print(grads['W1'].shape)  # (784, 100)\n",
    "    print(grads['b1'].shape)  # (100,)\n",
    "    print(grads['W2'].shape)  # (100, 10)\n",
    "    print(grads['b2'].shape)  # (10,)\n"
   ]
  },
  {
   "cell_type": "markdown",
   "id": "202b7ed3",
   "metadata": {},
   "source": [
    "### 4.5.2 미니배치 학습 구현하기\n"
   ]
  },
  {
   "cell_type": "markdown",
   "id": "96fd2b84",
   "metadata": {},
   "source": [
    "미니 배치 학습이란 훈련 데이터 중 일부를 무작위로 꺼내고(미니배치), 그 미니배치에 대해서 경사법으로 매개변수를 갱신합니다. 그럼 TwoLayerNet 클래스와 Mnist  데이터셋을 사용하여 학습을 수행해보자."
   ]
  },
  {
   "cell_type": "code",
   "execution_count": 13,
   "id": "c3312b37",
   "metadata": {
    "scrolled": true
   },
   "outputs": [
    {
     "name": "stdout",
     "output_type": "stream",
     "text": [
      "train acc, test acc | 0.11236666666666667, 0.1135\n",
      "train acc, test acc | 0.8062166666666667, 0.8073\n",
      "train acc, test acc | 0.8800333333333333, 0.8844\n",
      "train acc, test acc | 0.8994333333333333, 0.9033\n",
      "train acc, test acc | 0.9096833333333333, 0.9108\n",
      "train acc, test acc | 0.9161, 0.9176\n",
      "train acc, test acc | 0.9198833333333334, 0.9202\n",
      "train acc, test acc | 0.9244333333333333, 0.926\n",
      "train acc, test acc | 0.9268666666666666, 0.9262\n",
      "train acc, test acc | 0.9314, 0.9312\n",
      "train acc, test acc | 0.9342666666666667, 0.9332\n",
      "train acc, test acc | 0.93655, 0.9356\n",
      "train acc, test acc | 0.9386666666666666, 0.9377\n",
      "train acc, test acc | 0.9412, 0.9413\n",
      "train acc, test acc | 0.9434833333333333, 0.9419\n",
      "train acc, test acc | 0.9446833333333333, 0.9439\n",
      "train acc, test acc | 0.9468666666666666, 0.9467\n"
     ]
    },
    {
     "data": {
      "image/png": "[encoded data removed]",
      "text/plain": [
       "<Figure size 640x480 with 1 Axes>"
      ]
     },
     "metadata": {},
     "output_type": "display_data"
    }
   ],
   "source": [
    "# coding: utf-8\n",
    "import sys, os\n",
    "sys.path.append(os.pardir)  # 부모 디렉터리의 파일을 가져올 수 있도록 설정\n",
    "import numpy as np\n",
    "import matplotlib.pyplot as plt\n",
    "from dataset.mnist import load_mnist\n",
    "\n",
    "\n",
    "# 데이터 읽기\n",
    "(x_train, t_train), (x_test, t_test) = load_mnist(normalize=True, one_hot_label=True)\n",
    "\n",
    "network = TwoLayerNet(input_size=784, hidden_size=50, output_size=10)\n",
    "\n",
    "# 하이퍼파라미터\n",
    "iters_num = 10000  # 반복 횟수를 적절히 설정한다.\n",
    "train_size = x_train.shape[0]\n",
    "batch_size = 100   # 미니배치 크기\n",
    "learning_rate = 0.1\n",
    "\n",
    "train_loss_list = []\n",
    "train_acc_list = []\n",
    "test_acc_list = []\n",
    "\n",
    "# 1에폭당 반복 수\n",
    "iter_per_epoch = max(train_size / batch_size, 1) #600\n",
    "\n",
    "for i in range(iters_num):\n",
    "    # 미니배치 획득\n",
    "    batch_mask = np.random.choice(train_size, batch_size)\n",
    "    x_batch = x_train[batch_mask]\n",
    "    t_batch = t_train[batch_mask]\n",
    "    \n",
    "    # 기울기 계산\n",
    "    #grad = network.numerical_gradient(x_batch, t_batch)\n",
    "    grad = network.gradient(x_batch, t_batch)#오차 역전파법 사용 시간절약에 좋다.\n",
    "    \n",
    "    # 매개변수 갱신\n",
    "    for key in ('W1', 'b1', 'W2', 'b2'):\n",
    "        network.params[key] -= learning_rate * grad[key]\n",
    "    \n",
    "    # 학습 경과 기록\n",
    "    loss = network.loss(x_batch, t_batch)\n",
    "    train_loss_list.append(loss)\n",
    "    \n",
    "    # 1에폭당 정확도 계산\n",
    "    if i % iter_per_epoch == 0:\n",
    "        train_acc = network.accuracy(x_train, t_train)\n",
    "        test_acc = network.accuracy(x_test, t_test)\n",
    "        train_acc_list.append(train_acc)\n",
    "        test_acc_list.append(test_acc)\n",
    "        print(\"train acc, test acc | \" + str(train_acc) + \", \" + str(test_acc))\n",
    "\n",
    "# 그래프 그리기\n",
    "markers = {'train': 'o', 'test': 's'}\n",
    "x = np.arange(len(train_acc_list))#array([ 0,  1,  2,  3,  4,  5,  6,  7,  8,  9, 10, 11, 12, 13, 14, 15, 16])\n",
    "plt.plot(x, train_acc_list, label='train acc')\n",
    "plt.plot(x, test_acc_list, label='test acc', linestyle='--')\n",
    "plt.xlabel(\"epochs\")\n",
    "plt.ylabel(\"accuracy\")\n",
    "plt.ylim(0, 1.0)\n",
    "plt.legend(loc='lower right')\n",
    "plt.show()"
   ]
  },
  {
   "cell_type": "markdown",
   "id": "74902531",
   "metadata": {},
   "source": [
    "훈련데이터에 대한 정확도를 실선으로, 시험 데이터에 대한 정확도를 점선으로 그렸습니다. 보시다시피 에폭이 진행될수록(학습이 진행될 수록)\n",
    "훈련 데이터와 시험 데이터를 사용하고 평가한 정확도가 모두 좋아지고 있습니다. 또 두 정확도에는 차이가 없음을 알 수 있죠( 두선이 거의 겹쳐 있습니다.) 다시 말해 이번 학습에서는 오버 피팅이 일어나지 않았습니다.<br><br>\n",
    "\n",
    "오버피팅이되면 어느순간부터 정확도가  점차 떨어지기 시작합니다. 오버피팅을 방지하는 방법중에는 조기 종료가 있고, 가중치 감소, 드롭아웃과 같은 대표적인 오버피팅 예방법을이 있습니다."
   ]
  },
  {
   "cell_type": "code",
   "execution_count": 16,
   "id": "0835c48b",
   "metadata": {},
   "outputs": [
    {
     "data": {
      "text/plain": [
       "array([ 0,  1,  2,  3,  4,  5,  6,  7,  8,  9, 10, 11, 12, 13, 14, 15, 16])"
      ]
     },
     "execution_count": 16,
     "metadata": {},
     "output_type": "execute_result"
    }
   ],
   "source": [
    "x"
   ]
  },
  {
   "cell_type": "code",
   "execution_count": 17,
   "id": "5d1b3fc8",
   "metadata": {
    "scrolled": false
   },
   "outputs": [
    {
     "data": {
      "text/plain": [
       "[0.11236666666666667,\n",
       " 0.8062166666666667,\n",
       " 0.8800333333333333,\n",
       " 0.8994333333333333,\n",
       " 0.9096833333333333,\n",
       " 0.9161,\n",
       " 0.9198833333333334,\n",
       " 0.9244333333333333,\n",
       " 0.9268666666666666,\n",
       " 0.9314,\n",
       " 0.9342666666666667,\n",
       " 0.93655,\n",
       " 0.9386666666666666,\n",
       " 0.9412,\n",
       " 0.9434833333333333,\n",
       " 0.9446833333333333,\n",
       " 0.9468666666666666]"
      ]
     },
     "execution_count": 17,
     "metadata": {},
     "output_type": "execute_result"
    }
   ],
   "source": [
    "train_acc_list # 17번 학습했다. 10000번을 60000(train size)/100(미니배치) 로 나눈 값"
   ]
  },
  {
   "cell_type": "code",
   "execution_count": 23,
   "id": "dbc68158",
   "metadata": {},
   "outputs": [
    {
     "data": {
      "image/png": "[encoded data removed]",
      "text/plain": [
       "<Figure size 640x480 with 1 Axes>"
      ]
     },
     "metadata": {},
     "output_type": "display_data"
    }
   ],
   "source": [
    "# 손실함수 값의 추이\n",
    "\n",
    "x = np.arange(len(train_loss_list))\n",
    "plt.plot(x, train_loss_list, label='train_loss_list')\n",
    "plt.xlabel(\"Iteration\")\n",
    "plt.ylabel(\"loss\")\n",
    "plt.xlim(0,10050)\n",
    "plt.ylim(0, 10.0)\n",
    "plt.show()"
   ]
  },
  {
   "cell_type": "markdown",
   "id": "acab055e",
   "metadata": {},
   "source": [
    "### 4.6 정리\n",
    "\n",
    "가장 먼저 신경망이 학습을 수행할 수 있도록 손실 함수라는 '지표'를 도입하고 손실함수를 그 값이 가장 작아지는 가중치 매개변수 값을 찾아내는 것이 신경망 학습의 목표입니다.이 가능한 작은 손실 함수를 찾는 방법으로 경사법을 소개했고, 경사법은 함수의 기울기를 이용하는 방법입니다.\n",
    "\n",
    "\n",
    "#### 이번장에서 배운 내용\n",
    "- 기계학습에서 사용하는 데이터셋은 훈련 데이터와 시험 데이터로 나눠 사용한다.\n",
    "- 훈련 데이터로 학습한 모델의 범용 능력을 시험 데이터로 평가한다.\n",
    "- 신경망 학습은 손실 함수를 지표로, 손실 함수의 값이 작아지는 방향으로 가중치 매개변수를 갱신한다.\n",
    "- 가중치 매개변수를 갱신할 때는 가중치 매개변수의 기울기를 이용하고, 기울어진 방향으로 가중치의 값을 갱신하는 작업을 반복한다.\n",
    "- 아주 작은 값을 주었을 때의 차분으로 미분하는 것을 수치 미분이라고 한다.\n",
    "- 수치 미분을 이용해 가중치 매개변수의 기울기를 구할 수 있다.\n",
    "- 수치 미분을 이용한 계산에는 시간이 걸리지만, 그 구현은 간단하다. 한편, 다음 장에서 구현하는 (다소 복잡한) 오차 역전파법은 기울기를 고속으로 구할 수 있다. "
   ]
  }
 ],
 "metadata": {
  "kernelspec": {
   "display_name": "Python 3 (ipykernel)",
   "language": "python",
   "name": "python3"
  },
  "language_info": {
   "codemirror_mode": {
    "name": "ipython",
    "version": 3
   },
   "file_extension": ".py",
   "mimetype": "text/x-python",
   "name": "python",
   "nbconvert_exporter": "python",
   "pygments_lexer": "ipython3",
   "version": "3.9.13"
  }
 },
 "nbformat": 4,
 "nbformat_minor": 5
}
