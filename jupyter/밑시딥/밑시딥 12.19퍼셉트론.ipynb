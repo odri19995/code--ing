{
 "cells": [
  {
   "cell_type": "markdown",
   "id": "51043ffd",
   "metadata": {},
   "source": [
    "## 퍼셉트론이란 ?"
   ]
  },
  {
   "cell_type": "markdown",
   "id": "ea540d9e",
   "metadata": {},
   "source": [
    "퍼셉트론은 다수의 신호를 입력으로 받아 하나의 신호를 출력합니다. "
   ]
  },
  {
   "cell_type": "markdown",
   "id": "4d231ace",
   "metadata": {},
   "source": [
    "AND  게이트"
   ]
  },
  {
   "cell_type": "code",
   "execution_count": 1,
   "id": "821e78e8",
   "metadata": {},
   "outputs": [],
   "source": [
    "def AND(x1,x2):\n",
    "    w1, w2, theta = 0.5, 0.5, 0.7\n",
    "    temp = x1*w1 +x2*w2\n",
    "    if temp <=theta:\n",
    "        return 0\n",
    "    else:\n",
    "        return 1"
   ]
  },
  {
   "cell_type": "code",
   "execution_count": 3,
   "id": "c5010e5c",
   "metadata": {},
   "outputs": [
    {
     "data": {
      "text/plain": [
       "1"
      ]
     },
     "execution_count": 3,
     "metadata": {},
     "output_type": "execute_result"
    }
   ],
   "source": [
    "AND(1,1)"
   ]
  },
  {
   "cell_type": "code",
   "execution_count": 4,
   "id": "b9617f80",
   "metadata": {},
   "outputs": [
    {
     "data": {
      "text/plain": [
       "0"
      ]
     },
     "execution_count": 4,
     "metadata": {},
     "output_type": "execute_result"
    }
   ],
   "source": [
    "AND(0,0)"
   ]
  },
  {
   "cell_type": "code",
   "execution_count": 5,
   "id": "8a1fb585",
   "metadata": {},
   "outputs": [
    {
     "data": {
      "text/plain": [
       "0"
      ]
     },
     "execution_count": 5,
     "metadata": {},
     "output_type": "execute_result"
    }
   ],
   "source": [
    "AND(1,0)"
   ]
  },
  {
   "cell_type": "code",
   "execution_count": 6,
   "id": "ded819da",
   "metadata": {},
   "outputs": [
    {
     "data": {
      "text/plain": [
       "0"
      ]
     },
     "execution_count": 6,
     "metadata": {},
     "output_type": "execute_result"
    }
   ],
   "source": [
    "AND(0,1)"
   ]
  },
  {
   "cell_type": "markdown",
   "id": "56da0c38",
   "metadata": {},
   "source": [
    "모두가 1,1 일때만 작동하는 And 게이트"
   ]
  },
  {
   "cell_type": "code",
   "execution_count": 7,
   "id": "a063cbca",
   "metadata": {},
   "outputs": [],
   "source": [
    "def NAND(x1,x2):\n",
    "    w1, w2, theta = 0.5, 0.5, 0.7\n",
    "    temp = x1*w1 +x2*w2\n",
    "    if temp <=theta:\n",
    "        return 1\n",
    "    else:\n",
    "        return 0"
   ]
  },
  {
   "cell_type": "code",
   "execution_count": 30,
   "id": "f332970f",
   "metadata": {},
   "outputs": [
    {
     "data": {
      "text/plain": [
       "0"
      ]
     },
     "execution_count": 30,
     "metadata": {},
     "output_type": "execute_result"
    }
   ],
   "source": [
    "NAND(1,1)"
   ]
  },
  {
   "cell_type": "code",
   "execution_count": 31,
   "id": "30c550cf",
   "metadata": {},
   "outputs": [
    {
     "data": {
      "text/plain": [
       "1"
      ]
     },
     "execution_count": 31,
     "metadata": {},
     "output_type": "execute_result"
    }
   ],
   "source": [
    "NAND(0,0)"
   ]
  },
  {
   "cell_type": "code",
   "execution_count": 32,
   "id": "05b97ec8",
   "metadata": {},
   "outputs": [
    {
     "data": {
      "text/plain": [
       "1"
      ]
     },
     "execution_count": 32,
     "metadata": {},
     "output_type": "execute_result"
    }
   ],
   "source": [
    "NAND(1,0)"
   ]
  },
  {
   "cell_type": "raw",
   "id": "e8567cfa",
   "metadata": {},
   "source": [
    " 식을 조금 수정해서 가중치와 편향을 넣어주겠다."
   ]
  },
  {
   "cell_type": "code",
   "execution_count": 9,
   "id": "ee39b571",
   "metadata": {},
   "outputs": [
    {
     "data": {
      "text/plain": [
       "array([0. , 0.5])"
      ]
     },
     "execution_count": 9,
     "metadata": {},
     "output_type": "execute_result"
    }
   ],
   "source": [
    "import numpy as np\n",
    "x= np.array([0,1]) #입력\n",
    "w= np.array([0.5,0.5])#가중치\n",
    "b= -0.7 # 편향\n",
    "\n",
    "w*x"
   ]
  },
  {
   "cell_type": "code",
   "execution_count": 10,
   "id": "94797fc8",
   "metadata": {},
   "outputs": [
    {
     "data": {
      "text/plain": [
       "0.5"
      ]
     },
     "execution_count": 10,
     "metadata": {},
     "output_type": "execute_result"
    }
   ],
   "source": [
    "np.sum(w*x)#  배열에 담긴 모든 원소의 총합을 나타낸다."
   ]
  },
  {
   "cell_type": "code",
   "execution_count": 11,
   "id": "d52d05e5",
   "metadata": {},
   "outputs": [
    {
     "data": {
      "text/plain": [
       "-0.19999999999999996"
      ]
     },
     "execution_count": 11,
     "metadata": {},
     "output_type": "execute_result"
    }
   ],
   "source": [
    "np.sum(w*x)+b"
   ]
  },
  {
   "cell_type": "code",
   "execution_count": 12,
   "id": "f0121398",
   "metadata": {},
   "outputs": [],
   "source": [
    "def AND(x1,x2):\n",
    "    x= np.array([x1,x2])\n",
    "    w= np.array([0.5,0.5])\n",
    "    b= -0.7\n",
    "    tmp =np.sum(w*x)+b\n",
    "    if tmp <=0:\n",
    "        return 0\n",
    "    else:\n",
    "        return 1"
   ]
  },
  {
   "cell_type": "code",
   "execution_count": 13,
   "id": "6774c413",
   "metadata": {},
   "outputs": [
    {
     "data": {
      "text/plain": [
       "1"
      ]
     },
     "execution_count": 13,
     "metadata": {},
     "output_type": "execute_result"
    }
   ],
   "source": [
    "AND(1,2)"
   ]
  },
  {
   "cell_type": "code",
   "execution_count": 14,
   "id": "d5e8ea35",
   "metadata": {},
   "outputs": [
    {
     "data": {
      "text/plain": [
       "0"
      ]
     },
     "execution_count": 14,
     "metadata": {},
     "output_type": "execute_result"
    }
   ],
   "source": [
    "AND(1,0)"
   ]
  },
  {
   "cell_type": "code",
   "execution_count": 16,
   "id": "093316b7",
   "metadata": {},
   "outputs": [
    {
     "data": {
      "text/plain": [
       "1"
      ]
     },
     "execution_count": 16,
     "metadata": {},
     "output_type": "execute_result"
    }
   ],
   "source": [
    "AND(1,1)"
   ]
  },
  {
   "cell_type": "code",
   "execution_count": 17,
   "id": "fa6a590e",
   "metadata": {},
   "outputs": [],
   "source": [
    "#w 가중치는 입력 신호가 결과에 주는 영향력 (중요도를)조절하는 매게 변수이고 b 편향은 뉴런이 얼마나 쉽게 활성화 하느냐를 조정하는 매개변수입니다.\n"
   ]
  },
  {
   "cell_type": "code",
   "execution_count": 18,
   "id": "6d65d582",
   "metadata": {},
   "outputs": [],
   "source": [
    "# NAND 게이트\n",
    "def NAND(x1,x2):\n",
    "    x= np.array([x1,x2])\n",
    "    w= np.array([-0.5,-0.5]) #가중치 a 와 b가 반대값이다.\n",
    "    b= 0.7\n",
    "    tmp =np.sum(w*x)+b\n",
    "    if tmp <=0:\n",
    "        return 0\n",
    "    else:\n",
    "        return 1\n",
    "\n",
    "# OR  게이트\n",
    "\n",
    "def OR(x1,x2):\n",
    "    x= np.array([x1,x2])\n",
    "    w= np.array([0.5,0.5])\n",
    "    b= -0.7\n",
    "    tmp = np.sum(w*x)+b\n",
    "    if tmp < -0.2:\n",
    "        return 0\n",
    "    else :\n",
    "        return 1\n"
   ]
  },
  {
   "cell_type": "code",
   "execution_count": 19,
   "id": "45372f55",
   "metadata": {},
   "outputs": [
    {
     "data": {
      "text/plain": [
       "0"
      ]
     },
     "execution_count": 19,
     "metadata": {},
     "output_type": "execute_result"
    }
   ],
   "source": [
    "OR(0,0)"
   ]
  },
  {
   "cell_type": "code",
   "execution_count": 20,
   "id": "70daab79",
   "metadata": {},
   "outputs": [
    {
     "data": {
      "text/plain": [
       "1"
      ]
     },
     "execution_count": 20,
     "metadata": {},
     "output_type": "execute_result"
    }
   ],
   "source": [
    "OR(1,0)"
   ]
  },
  {
   "cell_type": "code",
   "execution_count": 21,
   "id": "921f33e5",
   "metadata": {},
   "outputs": [
    {
     "data": {
      "text/plain": [
       "1"
      ]
     },
     "execution_count": 21,
     "metadata": {},
     "output_type": "execute_result"
    }
   ],
   "source": [
    "OR(1,1)"
   ]
  },
  {
   "cell_type": "code",
   "execution_count": 22,
   "id": "232c75d6",
   "metadata": {},
   "outputs": [
    {
     "data": {
      "text/plain": [
       "1"
      ]
     },
     "execution_count": 22,
     "metadata": {},
     "output_type": "execute_result"
    }
   ],
   "source": [
    "OR(0,1)"
   ]
  },
  {
   "cell_type": "markdown",
   "id": "08742ed2",
   "metadata": {},
   "source": [
    "# XOR 게이트\n"
   ]
  },
  {
   "cell_type": "code",
   "execution_count": 23,
   "id": "f3056ee3",
   "metadata": {},
   "outputs": [],
   "source": [
    "#한쪽이 1일때만 1을 출력하는 게이트"
   ]
  },
  {
   "cell_type": "markdown",
   "id": "6b2a92dd",
   "metadata": {},
   "source": [
    "우리가 지금까지 본 퍼셉트론으로는 XOR게이트를 구현할 수 없다. 왜냐하면 직선으로 구분지을 수 없기 때문이다."
   ]
  },
  {
   "cell_type": "markdown",
   "id": "ae13684a",
   "metadata": {},
   "source": [
    "다만 곡선이라면 XOR를 표현 가능하다. "
   ]
  },
  {
   "cell_type": "markdown",
   "id": "2ce46dcb",
   "metadata": {},
   "source": [
    "### 다층 퍼셉트론이라면 가능하다.\n"
   ]
  },
  {
   "cell_type": "markdown",
   "id": "f997708f",
   "metadata": {},
   "source": [
    "#### 기존 게이트를 조합하자\n"
   ]
  },
  {
   "cell_type": "markdown",
   "id": "5ef4a110",
   "metadata": {},
   "source": [
    "초기 NAND와 OR로 입력된  NAND와 OR 의 출력값이 AND 게이트의 입력으로 이어집니다."
   ]
  },
  {
   "cell_type": "markdown",
   "id": "25474335",
   "metadata": {},
   "source": [
    "XOR게이트 구현하기"
   ]
  },
  {
   "cell_type": "code",
   "execution_count": 37,
   "id": "c0506608",
   "metadata": {},
   "outputs": [],
   "source": [
    "def XOR(x1,x2):\n",
    "    s1= NAND(x1,x2)\n",
    "    s2 = OR(x1,x2)\n",
    "    y = AND(s1,s2)\n",
    "    return y"
   ]
  },
  {
   "cell_type": "code",
   "execution_count": 40,
   "id": "2752d0b5",
   "metadata": {},
   "outputs": [
    {
     "data": {
      "text/plain": [
       "1"
      ]
     },
     "execution_count": 40,
     "metadata": {},
     "output_type": "execute_result"
    }
   ],
   "source": [
    "NAND(0,0)"
   ]
  },
  {
   "cell_type": "code",
   "execution_count": 41,
   "id": "468607a9",
   "metadata": {},
   "outputs": [
    {
     "data": {
      "text/plain": [
       "0"
      ]
     },
     "execution_count": 41,
     "metadata": {},
     "output_type": "execute_result"
    }
   ],
   "source": [
    "OR(0,0)"
   ]
  },
  {
   "cell_type": "code",
   "execution_count": 42,
   "id": "98063089",
   "metadata": {},
   "outputs": [
    {
     "data": {
      "text/plain": [
       "1"
      ]
     },
     "execution_count": 42,
     "metadata": {},
     "output_type": "execute_result"
    }
   ],
   "source": [
    "AND(1,0)"
   ]
  },
  {
   "cell_type": "code",
   "execution_count": 43,
   "id": "5da8c6bf",
   "metadata": {},
   "outputs": [
    {
     "data": {
      "text/plain": [
       "1"
      ]
     },
     "execution_count": 43,
     "metadata": {},
     "output_type": "execute_result"
    }
   ],
   "source": [
    "XOR(0,0)"
   ]
  },
  {
   "cell_type": "code",
   "execution_count": 44,
   "id": "50fd8847",
   "metadata": {},
   "outputs": [
    {
     "data": {
      "text/plain": [
       "1"
      ]
     },
     "execution_count": 44,
     "metadata": {},
     "output_type": "execute_result"
    }
   ],
   "source": [
    "XOR(1,1)"
   ]
  },
  {
   "cell_type": "code",
   "execution_count": 45,
   "id": "bfca8c85",
   "metadata": {},
   "outputs": [
    {
     "data": {
      "text/plain": [
       "0"
      ]
     },
     "execution_count": 45,
     "metadata": {},
     "output_type": "execute_result"
    }
   ],
   "source": [
    "XOR(1,0)"
   ]
  },
  {
   "cell_type": "code",
   "execution_count": 46,
   "id": "6326445b",
   "metadata": {},
   "outputs": [
    {
     "data": {
      "text/plain": [
       "0"
      ]
     },
     "execution_count": 46,
     "metadata": {},
     "output_type": "execute_result"
    }
   ],
   "source": [
    "XOR(0,1)"
   ]
  },
  {
   "cell_type": "markdown",
   "id": "33a05cec",
   "metadata": {},
   "source": [
    "방금과 같은 경우를 다층 퍼셉트론이라고 한다. 1층 : NAND , OR Gate 2층 : AND Gate"
   ]
  },
  {
   "cell_type": "markdown",
   "id": "cd9bcfbd",
   "metadata": {},
   "source": [
    "즉 단층 퍼셉트론으로는 표현하지 못한 것을 층을 하나 늘려 구현할 수 있었습니다. "
   ]
  },
  {
   "cell_type": "markdown",
   "id": "6849a22b",
   "metadata": {},
   "source": [
    "층을 얼마나 깊게 하면 될까요?\n",
    "\n",
    "그 답은 이론상 2층 퍼셉트론이면 컴퓨터를 만들 수 있다 입니다.\n",
    "정확히는 비선형인 시그모이드 함수를 활성화 함수로 이용하면 임의의 함수를 표현 할 수 있다는 사실이 증명되었습니다. \n",
    "\n",
    "\n",
    "퍼셉트론은 층을 거듭 쌓으면 비선형적인 표현도 가능하고, 이론상 컴퓨터가 수행하는 처리도 모두 표현 할 수 있다는 점을 기억하세요.\n"
   ]
  },
  {
   "cell_type": "markdown",
   "id": "01a178d7",
   "metadata": {},
   "source": [
    "- 퍼셉트론은 입출력을 갖춘 알고리즘이다. 입력을 주면 정해진 규칙에 따른 값을 출력한다.\n",
    "- 퍼셉트론에서는 '가중치와 편향을 매개 변수로 설정한다.\n",
    "- 퍼셉트론으로 AND,OR 게이트 등의 논리 회로를 표현할 수 있다.\n",
    "- XOR 게이트는 단층 퍼셉트론으로는 표현 할 수 없다.\n",
    "- 2층 퍼셉트론을 이용하면  XOR게이트를 표현할 수 있다. "
   ]
  }
 ],
 "metadata": {
  "kernelspec": {
   "display_name": "Python 3 (ipykernel)",
   "language": "python",
   "name": "python3"
  },
  "language_info": {
   "codemirror_mode": {
    "name": "ipython",
    "version": 3
   },
   "file_extension": ".py",
   "mimetype": "text/x-python",
   "name": "python",
   "nbconvert_exporter": "python",
   "pygments_lexer": "ipython3",
   "version": "3.9.13"
  }
 },
 "nbformat": 4,
 "nbformat_minor": 5
}
