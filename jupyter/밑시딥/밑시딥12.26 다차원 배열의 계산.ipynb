{
 "cells": [
  {
   "cell_type": "markdown",
   "id": "49a3287e",
   "metadata": {},
   "source": [
    "### 다차원 배열\n"
   ]
  },
  {
   "cell_type": "markdown",
   "id": "dc204613",
   "metadata": {},
   "source": [
    "1차원 배열"
   ]
  },
  {
   "cell_type": "code",
   "execution_count": 1,
   "id": "61150fc3",
   "metadata": {},
   "outputs": [
    {
     "name": "stdout",
     "output_type": "stream",
     "text": [
      "[1 2 3 4]\n"
     ]
    }
   ],
   "source": [
    "import numpy as np \n",
    "A = np.array([1,2,3,4])\n",
    "print(A)"
   ]
  },
  {
   "cell_type": "code",
   "execution_count": 2,
   "id": "29c40e53",
   "metadata": {},
   "outputs": [
    {
     "data": {
      "text/plain": [
       "1"
      ]
     },
     "execution_count": 2,
     "metadata": {},
     "output_type": "execute_result"
    }
   ],
   "source": [
    "np.ndim(A) #차원 표시"
   ]
  },
  {
   "cell_type": "code",
   "execution_count": 3,
   "id": "a5f915df",
   "metadata": {},
   "outputs": [
    {
     "data": {
      "text/plain": [
       "(4,)"
      ]
     },
     "execution_count": 3,
     "metadata": {},
     "output_type": "execute_result"
    }
   ],
   "source": [
    "A.shape"
   ]
  },
  {
   "cell_type": "code",
   "execution_count": 4,
   "id": "3ca76bd6",
   "metadata": {},
   "outputs": [
    {
     "data": {
      "text/plain": [
       "4"
      ]
     },
     "execution_count": 4,
     "metadata": {},
     "output_type": "execute_result"
    }
   ],
   "source": [
    "A.shape[0]"
   ]
  },
  {
   "cell_type": "markdown",
   "id": "9ca03843",
   "metadata": {},
   "source": [
    "2차원 배열 \n"
   ]
  },
  {
   "cell_type": "code",
   "execution_count": 5,
   "id": "b23a0fa6",
   "metadata": {},
   "outputs": [
    {
     "name": "stdout",
     "output_type": "stream",
     "text": [
      "[[1 2]\n",
      " [3 4]\n",
      " [5 6]]\n"
     ]
    }
   ],
   "source": [
    "B = np.array ([[1,2],[3,4],[5,6]])\n",
    "print(B)\n"
   ]
  },
  {
   "cell_type": "code",
   "execution_count": 6,
   "id": "89ce056b",
   "metadata": {},
   "outputs": [
    {
     "data": {
      "text/plain": [
       "2"
      ]
     },
     "execution_count": 6,
     "metadata": {},
     "output_type": "execute_result"
    }
   ],
   "source": [
    "np.ndim(B) #차원 표시"
   ]
  },
  {
   "cell_type": "code",
   "execution_count": 7,
   "id": "b337ec8c",
   "metadata": {},
   "outputs": [
    {
     "data": {
      "text/plain": [
       "(3, 2)"
      ]
     },
     "execution_count": 7,
     "metadata": {},
     "output_type": "execute_result"
    }
   ],
   "source": [
    "B.shape"
   ]
  },
  {
   "cell_type": "code",
   "execution_count": 8,
   "id": "3aabfb10",
   "metadata": {},
   "outputs": [
    {
     "data": {
      "text/plain": [
       "3"
      ]
     },
     "execution_count": 8,
     "metadata": {},
     "output_type": "execute_result"
    }
   ],
   "source": [
    "B.shape[0]"
   ]
  },
  {
   "cell_type": "markdown",
   "id": "d97bca2b",
   "metadata": {},
   "source": [
    "행렬의 곱"
   ]
  },
  {
   "cell_type": "code",
   "execution_count": 9,
   "id": "43a71d8c",
   "metadata": {},
   "outputs": [],
   "source": [
    "A = np.array([[1,2],[3,4]])\n",
    "B = np.array([[5,6],[7,8]])"
   ]
  },
  {
   "cell_type": "code",
   "execution_count": 10,
   "id": "5005d854",
   "metadata": {},
   "outputs": [
    {
     "data": {
      "text/plain": [
       "array([[19, 22],\n",
       "       [43, 50]])"
      ]
     },
     "execution_count": 10,
     "metadata": {},
     "output_type": "execute_result"
    }
   ],
   "source": [
    "np.dot(A,B)"
   ]
  },
  {
   "cell_type": "markdown",
   "id": "0c6f515e",
   "metadata": {},
   "source": [
    "행렬의 곱이 가능하려면 A의 1번째 차원의 원소 수 와 행렬 B 의 0번째 차원의 수가 같아야 합니다. "
   ]
  },
  {
   "cell_type": "markdown",
   "id": "8a31708b",
   "metadata": {},
   "source": [
    "행렬의 곱으로 나타내주는 np.dot 기능은 신경망을 구현할때 매우 중요하다. "
   ]
  },
  {
   "cell_type": "markdown",
   "id": "da091a27",
   "metadata": {},
   "source": [
    "### 3층 신경망 구현하기"
   ]
  },
  {
   "cell_type": "code",
   "execution_count": 11,
   "id": "7a6cf67c",
   "metadata": {},
   "outputs": [],
   "source": [
    "def sigmoid(x):\n",
    "    return 1/ (1 +np.exp(-x))"
   ]
  },
  {
   "cell_type": "code",
   "execution_count": 12,
   "id": "e087bcb0",
   "metadata": {},
   "outputs": [
    {
     "name": "stdout",
     "output_type": "stream",
     "text": [
      "(2, 3)\n",
      "(2,)\n",
      "(3,)\n"
     ]
    }
   ],
   "source": [
    "X= np.array([1.0,0.5])\n",
    "W1 = np.array([[0.1,0.3,0.5], [0.2,0.4,0.6]])\n",
    "B1 = np.array([0.1,0.2,0.3])\n",
    "\n",
    "print(W1.shape)\n",
    "print(X.shape)\n",
    "print(B1.shape)"
   ]
  },
  {
   "cell_type": "code",
   "execution_count": 13,
   "id": "4fd0b819",
   "metadata": {},
   "outputs": [],
   "source": [
    "A1 =np.dot(X,W1)+B1"
   ]
  },
  {
   "cell_type": "code",
   "execution_count": 14,
   "id": "5da7ce8a",
   "metadata": {},
   "outputs": [],
   "source": [
    "z1 =sigmoid(A1)"
   ]
  },
  {
   "cell_type": "code",
   "execution_count": 15,
   "id": "d9f977c5",
   "metadata": {},
   "outputs": [
    {
     "name": "stdout",
     "output_type": "stream",
     "text": [
      "[0.3 0.7 1.1]\n"
     ]
    }
   ],
   "source": [
    "print(A1)"
   ]
  },
  {
   "cell_type": "code",
   "execution_count": 16,
   "id": "b6059af0",
   "metadata": {},
   "outputs": [
    {
     "name": "stdout",
     "output_type": "stream",
     "text": [
      "[0.57444252 0.66818777 0.75026011]\n"
     ]
    }
   ],
   "source": [
    "print(z1)"
   ]
  },
  {
   "cell_type": "markdown",
   "id": "b05f2e7c",
   "metadata": {},
   "source": [
    "### 1층에서 2층으로 가는 과정"
   ]
  },
  {
   "cell_type": "code",
   "execution_count": 17,
   "id": "70e8970a",
   "metadata": {},
   "outputs": [
    {
     "name": "stdout",
     "output_type": "stream",
     "text": [
      "(3,)\n",
      "(3, 2)\n",
      "(2,)\n"
     ]
    }
   ],
   "source": [
    "W2 =np.array([[0.1,0.4],[0.2,0.5],[0.3,0.6]])\n",
    "B2 =np.array([0.1,0.2])\n",
    "\n",
    "print(z1.shape) #shape는 넘파이 array 만 가능하다. \n",
    "print(W2.shape)\n",
    "print(B2.shape)"
   ]
  },
  {
   "cell_type": "code",
   "execution_count": 18,
   "id": "866fbeee",
   "metadata": {},
   "outputs": [],
   "source": [
    "A2 = np.dot(z1,W2) +B2\n",
    "z2 = sigmoid(A2)"
   ]
  },
  {
   "cell_type": "code",
   "execution_count": 19,
   "id": "7e8e918c",
   "metadata": {},
   "outputs": [
    {
     "name": "stdout",
     "output_type": "stream",
     "text": [
      "[0.51615984 1.21402696]\n"
     ]
    }
   ],
   "source": [
    "print(A2)"
   ]
  },
  {
   "cell_type": "code",
   "execution_count": 20,
   "id": "44402721",
   "metadata": {},
   "outputs": [
    {
     "name": "stdout",
     "output_type": "stream",
     "text": [
      "[0.62624937 0.7710107 ]\n"
     ]
    }
   ],
   "source": [
    "print(z2)"
   ]
  },
  {
   "cell_type": "markdown",
   "id": "ffdf6e01",
   "metadata": {},
   "source": [
    "2층에서 출력층으로의 신호전달"
   ]
  },
  {
   "cell_type": "code",
   "execution_count": 21,
   "id": "2361cfe1",
   "metadata": {},
   "outputs": [
    {
     "data": {
      "text/plain": [
       "array([0.25514622, 0.69627909])"
      ]
     },
     "execution_count": 21,
     "metadata": {},
     "output_type": "execute_result"
    }
   ],
   "source": [
    "def identity_function(x): #입력을 그대로 출력하는 함수 항등함수라고 한다.ㅣ 여기서는 활성화 함수로 사용\n",
    "    return x\n",
    "\n",
    "W3 = np.array([[0.1,0.3],[0.12,0.4]])\n",
    "B3 = np.array([0.1,0.2])\n",
    "\n",
    "A3 = np.dot(z2,W3) +B3\n",
    "Y = identity_function(A3)\n",
    "Y"
   ]
  },
  {
   "cell_type": "code",
   "execution_count": 22,
   "id": "0e25754c",
   "metadata": {},
   "outputs": [
    {
     "data": {
      "text/plain": [
       "array([0.25514622, 0.69627909])"
      ]
     },
     "execution_count": 22,
     "metadata": {},
     "output_type": "execute_result"
    }
   ],
   "source": [
    "A3"
   ]
  },
  {
   "cell_type": "markdown",
   "id": "be2e7549",
   "metadata": {},
   "source": [
    "### 구현 총정리"
   ]
  },
  {
   "cell_type": "code",
   "execution_count": 23,
   "id": "fefc9d9e",
   "metadata": {
    "scrolled": false
   },
   "outputs": [
    {
     "name": "stdout",
     "output_type": "stream",
     "text": [
      "[0.31682708 0.69627909]\n"
     ]
    }
   ],
   "source": [
    "'''\n",
    "입력층(0층) 2개, 첫 번째 은닉층(1층) 3개, 두 번째 은닉층(2층) 2개, 출력층(3층) 2개의\n",
    "뉴런으로 구성.\n",
    "1, 2층의 활성화 함수 : 시그모이드\n",
    "3층의 활성화 함수 : 항등함수\n",
    "출력층의 활성화 함수는 풀고자 하는 문제의 성질에 맞게 정한다.\n",
    "예를 들어 회귀에는 항등함수, 2클래스 분류에는 시그모이드 함수,\n",
    "다중 클래스 분류에는 소프트맥스 함수를 사용하는 것이 일반적이다.\n",
    "'''\n",
    "\n",
    "\n",
    "def init_network():\n",
    "    network ={}\n",
    "    network['w1'] =np.array([[0.1,0.3,0.5],[0.2,0.4,0.6]])\n",
    "    network['b1'] =np.array([0.1,0.2,0.3])\n",
    "    network['w2'] =np.array([[0.1,0.4],[0.2,0.5],[0.3,0.6]])\n",
    "    network['b2'] =np.array([0.1,0.2])\n",
    "    network['w3'] =np.array([[0.1,0.3],[0.2,0.4]])\n",
    "    network['b3'] =np.array([0.1,0.2])\n",
    "    \n",
    "    return network\n",
    "\n",
    "def forward(network, x):\n",
    "    w1,w2,w3 = network['w1'], network['w2'],network['w3']\n",
    "    b1,b2,b3 = network['b1'], network['b2'],network['b3']\n",
    "    \n",
    "    a1 = np.dot(x,w1) + b1\n",
    "    z1 = sigmoid(a1)\n",
    "    a2 = np.dot(z1,w2) + b2\n",
    "    z2 = sigmoid(a2)\n",
    "    a3 = np.dot(z2,w3) + b3\n",
    "    y = identity_function(a3)\n",
    "    \n",
    "    return y\n",
    "\n",
    "network = init_network()\n",
    "x= np.array([1.0,0.5])\n",
    "y = forward(network,x)\n",
    "print(y)"
   ]
  },
  {
   "cell_type": "code",
   "execution_count": 24,
   "id": "7c9c035b",
   "metadata": {},
   "outputs": [
    {
     "name": "stdout",
     "output_type": "stream",
     "text": [
      "{'w1': array([[0.1, 0.3, 0.5],\n",
      "       [0.2, 0.4, 0.6]]), 'b1': array([0.1, 0.2, 0.3]), 'w2': array([[0.1, 0.4],\n",
      "       [0.2, 0.5],\n",
      "       [0.3, 0.6]]), 'b2': array([0.1, 0.2]), 'w3': array([[0.1, 0.3],\n",
      "       [0.2, 0.4]]), 'b3': array([0.1, 0.2])}\n"
     ]
    }
   ],
   "source": [
    "print(network)"
   ]
  },
  {
   "cell_type": "markdown",
   "id": "94832f00",
   "metadata": {},
   "source": [
    "init_network() 함수는 가중치와 편향을 초기화 하고 이들을 딕셔너리 변수인 network 에 저장합니다. <br>\n",
    "forward()함수는 입력신호를 출력으로 변환하는 처리 과정을 모두 구현하고 있습니다. foward라 한것은 신호가 순방향으로 전달됨을 알리기 위함입니다.(순전파)"
   ]
  },
  {
   "cell_type": "markdown",
   "id": "28f9e0d5",
   "metadata": {},
   "source": [
    "출력층 설계는 어떤 문제냐에 따라 출력층에서 사용하는 활성화 함수가 달라집니다. 일반적으로 회귀에는 항등함수를, 분류에는 소프트맥스 함수를 사용합니다. "
   ]
  },
  {
   "cell_type": "markdown",
   "id": "a4e1b824",
   "metadata": {},
   "source": [
    "### 항등함수와 소프트 맥스 함수 구현하기"
   ]
  },
  {
   "attachments": {
    "image.png": {
     "image/png": "[encoded data removed]"
    }
   },
   "cell_type": "markdown",
   "id": "40053019",
   "metadata": {},
   "source": [
    "![image.png](attachment:image.png)"
   ]
  },
  {
   "attachments": {
    "image.png": {
     "image/png": "[encoded data removed]"
    }
   },
   "cell_type": "markdown",
   "id": "4e3ddf84",
   "metadata": {},
   "source": [
    "![image.png](attachment:image.png)"
   ]
  },
  {
   "cell_type": "code",
   "execution_count": 25,
   "id": "516b5ac4",
   "metadata": {},
   "outputs": [
    {
     "name": "stdout",
     "output_type": "stream",
     "text": [
      "[ 1.34985881 18.17414537 54.59815003]\n"
     ]
    }
   ],
   "source": [
    "a = np.array([0.3,2.9,4.0])\n",
    "\n",
    "exp_a = np.exp(a) # 지수함수\n",
    "print(exp_a)\n"
   ]
  },
  {
   "cell_type": "code",
   "execution_count": 26,
   "id": "4b61a5ce",
   "metadata": {},
   "outputs": [
    {
     "name": "stdout",
     "output_type": "stream",
     "text": [
      "74.1221542101633\n"
     ]
    }
   ],
   "source": [
    "sum_exp_a = np.sum(exp_a)\n",
    "print(sum_exp_a)"
   ]
  },
  {
   "cell_type": "code",
   "execution_count": 28,
   "id": "bb0ee7ab",
   "metadata": {},
   "outputs": [
    {
     "name": "stdout",
     "output_type": "stream",
     "text": [
      "[0.01821127 0.24519181 0.73659691]\n"
     ]
    }
   ],
   "source": [
    "y = exp_a /sum_exp_a\n",
    "print(y)\n",
    "#각 값의 백분률"
   ]
  },
  {
   "cell_type": "code",
   "execution_count": 29,
   "id": "48d301ee",
   "metadata": {},
   "outputs": [],
   "source": [
    "def softmax():\n",
    "    exp_a = np.exp(a)\n",
    "    sum_exp_a = np.sum(exp_a)\n",
    "    y = exp_a /sum_exp_a\n",
    "    \n",
    "    return y"
   ]
  },
  {
   "cell_type": "markdown",
   "id": "8dd5d20e",
   "metadata": {},
   "source": [
    "오버플로 문제가 발생할 수 있다. 지수함수를 사용하기 때문인데 큰값끼리 나눗셈을 하면 결과 수치가 불안정해지기 때문입니다.\n",
    "이를 막기위해  C라는 임의의 정수를 양쪽에 곱한다."
   ]
  },
  {
   "cell_type": "markdown",
   "id": "275a9656",
   "metadata": {},
   "source": [
    "[1010,1000,990] 에서 최댓값인 1010을 모두 빼준다. [0,-10,-20] 이 되는데 그 값을 가지고 softmax를 구현한다."
   ]
  },
  {
   "cell_type": "code",
   "execution_count": 30,
   "id": "a0cda9df",
   "metadata": {},
   "outputs": [],
   "source": [
    "def softmax(a):\n",
    "    c = np.max(a)\n",
    "    exp_a = np.exp(a-c)# 오버플로 대책\\\n",
    "    sum_exp_a = np.sum(exp_a)\n",
    "    y = exp_a / sum_exp_a\n",
    "    \n",
    "    return y"
   ]
  },
  {
   "cell_type": "code",
   "execution_count": 31,
   "id": "57b44786",
   "metadata": {},
   "outputs": [
    {
     "name": "stdout",
     "output_type": "stream",
     "text": [
      "[0.01821127 0.24519181 0.73659691]\n"
     ]
    }
   ],
   "source": [
    "a= np.array([0.3, 2.9,4.0])\n",
    "y = softmax(a)\n",
    "print(y)"
   ]
  },
  {
   "cell_type": "markdown",
   "id": "7f4ff662",
   "metadata": {},
   "source": [
    "보는 바와 같이 소프트 맥스 함수의 출력은 0에서 1.0 사이의 실수입니다. 또, 소프트 맥스 함수 출력의 총합은 1입니다. 출력 총합이 1이 된다는 점은 소프트맥스 함수의 중요한 성질입니다. \n",
    "또한 지수함수 y = exp(x) 가 단조 증가함수이기 때문에 대소관계는 달라지지 않습니다. "
   ]
  },
  {
   "cell_type": "raw",
   "id": "9e40c31b",
   "metadata": {},
   "source": [
    "기계 학습의 문제풀이는 학습과 추론의 두 단계를 거쳐 이뤄집니다. 학습 단계에서 모델을 학습하고 추론 단계에서 앞서 학습한 모델로 미지의 데이터에 대해서 추론(분류)를 수행합니다.  방금 설명한 대로, 추론 단계에서는 출력층의 소프트 맥스 함수를 생략하는 것이 일반적입니다. 한편, 신경망을 학습시킬땐느 출력층에서 소프트맥스 함수를 사용합니다."
   ]
  },
  {
   "cell_type": "markdown",
   "id": "130f86e9",
   "metadata": {},
   "source": [
    "### 출력층의 뉴런수 정하기"
   ]
  },
  {
   "cell_type": "markdown",
   "id": "11d60ab4",
   "metadata": {},
   "source": [
    "출력층의 뉴런 수는 풀련느 문제에 맞게 적절히 정해야 합니다.분류에서는 분류하고 싶은 클래스 수로 설정하는 것이 일반적입니다. "
   ]
  },
  {
   "cell_type": "markdown",
   "id": "3e06df24",
   "metadata": {},
   "source": [
    "### 3.6 손글씨 숫자 인식 mnist 데이터 셋"
   ]
  },
  {
   "cell_type": "code",
   "execution_count": 34,
   "id": "fba25849",
   "metadata": {},
   "outputs": [
    {
     "ename": "ModuleNotFoundError",
     "evalue": "No module named 'dataset'",
     "output_type": "error",
     "traceback": [
      "\u001b[1;31m---------------------------------------------------------------------------\u001b[0m",
      "\u001b[1;31mModuleNotFoundError\u001b[0m                       Traceback (most recent call last)",
      "\u001b[1;32m~\\AppData\\Local\\Temp\\ipykernel_2728\\2597594008.py\u001b[0m in \u001b[0;36m<module>\u001b[1;34m\u001b[0m\n\u001b[0;32m      4\u001b[0m \u001b[1;32mimport\u001b[0m \u001b[0mnumpy\u001b[0m \u001b[1;32mas\u001b[0m \u001b[0mnp\u001b[0m\u001b[1;33m\u001b[0m\u001b[1;33m\u001b[0m\u001b[0m\n\u001b[0;32m      5\u001b[0m \u001b[0msys\u001b[0m\u001b[1;33m.\u001b[0m\u001b[0mpath\u001b[0m\u001b[1;33m.\u001b[0m\u001b[0mappend\u001b[0m\u001b[1;33m(\u001b[0m\u001b[0mos\u001b[0m\u001b[1;33m.\u001b[0m\u001b[0mpardir\u001b[0m\u001b[1;33m)\u001b[0m  \u001b[1;31m# 부모 디렉터리의 파일을 가져올 수 있도록 설정\u001b[0m\u001b[1;33m\u001b[0m\u001b[1;33m\u001b[0m\u001b[0m\n\u001b[1;32m----> 6\u001b[1;33m \u001b[1;32mfrom\u001b[0m \u001b[0mdataset\u001b[0m\u001b[1;33m.\u001b[0m\u001b[0mmnist\u001b[0m \u001b[1;32mimport\u001b[0m \u001b[0mload_mnist\u001b[0m\u001b[1;33m\u001b[0m\u001b[1;33m\u001b[0m\u001b[0m\n\u001b[0m\u001b[0;32m      7\u001b[0m \u001b[1;32mfrom\u001b[0m \u001b[0mcommon\u001b[0m\u001b[1;33m.\u001b[0m\u001b[0mfunctions\u001b[0m \u001b[1;32mimport\u001b[0m \u001b[0msigmoid\u001b[0m\u001b[1;33m,\u001b[0m \u001b[0msoftmax\u001b[0m\u001b[1;33m\u001b[0m\u001b[1;33m\u001b[0m\u001b[0m\n\u001b[0;32m      8\u001b[0m \u001b[1;33m\u001b[0m\u001b[0m\n",
      "\u001b[1;31mModuleNotFoundError\u001b[0m: No module named 'dataset'"
     ]
    }
   ],
   "source": [
    "import sys\n",
    "import os\n",
    "import pickle\n",
    "import numpy as np\n",
    "sys.path.append(os.pardir)  # 부모 디렉터리의 파일을 가져올 수 있도록 설정\n",
    "from dataset.mnist import load_mnist\n",
    "from common.functions import sigmoid, softmax\n",
    "\n",
    "\n",
    "# 3.6.1 MNIST 데이터셋\n",
    "'''\n",
    "0~9 숫자 이미지로 구성.\n",
    "훈련 이미지 60000장, 시험 이미지 10000장\n",
    "28*28 크기의 회색조 이미지이며 각 픽셀은 0~255의 값을 가짐\n",
    "레이블은 정답에 해당하는 숫자\n",
    "'''\n",
    "# 처음 한 번은 몇 분 정도 걸림\n",
    "# 이미지를 numpy 배열로 저장\n",
    "# flatten : 입력 이미지를 평탄화(1차원 배열로)\n",
    "# normalize : 입력 이미지를 정규화(0.0~1.0 사이의 값으로)\n",
    "# one_hot_label : 레이블을 원-핫 인코딩 형태로 저장\n",
    "(x_train, t_train), (x_test, t_test) = load_mnist(flatten=True,\n",
    "                                                  normalize=False)\n",
    "\n",
    "# 각 데이터의 형상 출력\n",
    "print(x_train.shape)  # (60000, 784)\n",
    "print(t_train.shape)  # (60000,)\n",
    "print(x_test.shape)  # (10000, 784)\n",
    "print(t_test.shape)  # (10000,)\n",
    "\n",
    "\n",
    "# 3.6.2 신경망의 추론 처리\n",
    "'''\n",
    "입력층 784개, 출력층 10개,\n",
    "은닉층 50개, 100개로 구성(임의)\n",
    "'''\n",
    "\n",
    "\n",
    "def get_data():\n",
    "    (x_train, t_train), (x_test, t_test) = \\\n",
    "        load_mnist(flatten=True, normalize=True, one_hot_label=False)\n",
    "    return x_test, t_test\n",
    "\n",
    "\n",
    "def init_network():\n",
    "    with open(\"sample_weight.pkl\", 'rb') as f:\n",
    "        # 학습된 가중치 매개변수가 담긴 파일\n",
    "        # 학습 없이 바로 추론을 수행\n",
    "        network = pickle.load(f)\n",
    "\n",
    "    return network\n",
    "\n",
    "\n",
    "def predict(network, x):\n",
    "    W1, W2, W3 = network['W1'], network['W2'], network['W3']\n",
    "    b1, b2, b3 = network['b1'], network['b2'], network['b3']\n",
    "    a1 = np.dot(x, W1) + b1\n",
    "    z1 = sigmoid(a1)\n",
    "    a2 = np.dot(z1, W2) + b2\n",
    "    z2 = sigmoid(a2)\n",
    "    a3 = np.dot(z2, W3) + b3\n",
    "    y = softmax(a3)\n",
    "\n",
    "    return y\n",
    "\n",
    "\n",
    "x, t = get_data()\n",
    "network = init_network()\n",
    "accuracy_cnt = 0\n",
    "\n",
    "'''\n",
    "for i in range(len(x)):\n",
    "    y = predict(network, x[i])\n",
    "    p = np.argmax(y)  # 확률이 가장 높은 원소의 인덱스를 얻는다.\n",
    "    if p == t[i]:\n",
    "        accuracy_cnt += 1\n",
    "print(\"Accuracy:\" + str(float(accuracy_cnt) / len(x)))  # Accuracy:0.9352\n",
    "'''\n",
    "\n",
    "# 3.6.3 배치 처리\n",
    "batch_size = 100\n",
    "\n",
    "for i in range(0, len(x), batch_size):\n",
    "    x_batch = x[i:i+batch_size]\n",
    "    y_batch = predict(network, x_batch)\n",
    "    p = np.argmax(y_batch, axis=1)\n",
    "    accuracy_cnt += np.sum(p == t[i:i+batch_size])\n",
    "\n",
    "print(\"Accuracy:\" + str(float(accuracy_cnt) / len(x)))  # Accuracy:0.9352"
   ]
  },
  {
   "cell_type": "code",
   "execution_count": null,
   "id": "d17aa80c",
   "metadata": {},
   "outputs": [],
   "source": []
  }
 ],
 "metadata": {
  "kernelspec": {
   "display_name": "Python 3 (ipykernel)",
   "language": "python",
   "name": "python3"
  },
  "language_info": {
   "codemirror_mode": {
    "name": "ipython",
    "version": 3
   },
   "file_extension": ".py",
   "mimetype": "text/x-python",
   "name": "python",
   "nbconvert_exporter": "python",
   "pygments_lexer": "ipython3",
   "version": "3.9.13"
  }
 },
 "nbformat": 4,
 "nbformat_minor": 5
}
