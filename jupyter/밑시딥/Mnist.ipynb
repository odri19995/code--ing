{
 "cells": [
  {
   "cell_type": "code",
   "execution_count": 1,
   "id": "70a027a8",
   "metadata": {
    "scrolled": true
   },
   "outputs": [],
   "source": [
    "import sys, os # sys 시스템 변수 경로를 불러올때 사용\n",
    "sys.path.append(\"C:\\\\Users\\\\Administrator\\\\jupyter\\\\deep-learning-from-scratch-master\")\n",
    "import numpy as np\n",
    "from dataset.mnist import load_mnist\n",
    "from PIL import Image #이미지 처리를 도와주는 라이브러리이다.\n",
    "\n"
   ]
  },
  {
   "cell_type": "code",
   "execution_count": 2,
   "id": "ae306b11",
   "metadata": {},
   "outputs": [
    {
     "data": {
      "text/plain": [
       "'C:\\\\Users\\\\Administrator\\\\jupyter'"
      ]
     },
     "execution_count": 2,
     "metadata": {},
     "output_type": "execute_result"
    }
   ],
   "source": [
    "os.getcwd()"
   ]
  },
  {
   "cell_type": "code",
   "execution_count": 3,
   "id": "cac6802d",
   "metadata": {},
   "outputs": [
    {
     "data": {
      "text/plain": [
       "['C:\\\\Users\\\\Administrator\\\\jupyter',\n",
       " 'C:\\\\ProgramData\\\\Anaconda3\\\\python39.zip',\n",
       " 'C:\\\\ProgramData\\\\Anaconda3\\\\DLLs',\n",
       " 'C:\\\\ProgramData\\\\Anaconda3\\\\lib',\n",
       " 'C:\\\\ProgramData\\\\Anaconda3',\n",
       " '',\n",
       " 'C:\\\\ProgramData\\\\Anaconda3\\\\lib\\\\site-packages',\n",
       " 'C:\\\\ProgramData\\\\Anaconda3\\\\lib\\\\site-packages\\\\win32',\n",
       " 'C:\\\\ProgramData\\\\Anaconda3\\\\lib\\\\site-packages\\\\win32\\\\lib',\n",
       " 'C:\\\\ProgramData\\\\Anaconda3\\\\lib\\\\site-packages\\\\Pythonwin',\n",
       " 'C:\\\\ProgramData\\\\Anaconda3\\\\lib\\\\site-packages\\\\IPython\\\\extensions',\n",
       " 'C:\\\\Users\\\\Administrator\\\\.ipython',\n",
       " 'C:\\\\Users\\\\Administrator\\\\jupyter\\\\deep-learning-from-scratch-master']"
      ]
     },
     "execution_count": 3,
     "metadata": {},
     "output_type": "execute_result"
    }
   ],
   "source": [
    "sys.path"
   ]
  },
  {
   "cell_type": "code",
   "execution_count": 4,
   "id": "b28ed53c",
   "metadata": {},
   "outputs": [],
   "source": [
    "def img_show(img):\n",
    "    pil_img = Image.fromarray(np.uint8(img)) # np.uint8 은 0~ 256까지의 값을 넘어서지 않게 도와줌\n",
    "    pil_img.show()"
   ]
  },
  {
   "cell_type": "code",
   "execution_count": 5,
   "id": "fca4f2fe",
   "metadata": {},
   "outputs": [
    {
     "data": {
      "text/plain": [
       "0"
      ]
     },
     "execution_count": 5,
     "metadata": {},
     "output_type": "execute_result"
    }
   ],
   "source": [
    "np.uint8(256)"
   ]
  },
  {
   "cell_type": "code",
   "execution_count": 6,
   "id": "06cea34e",
   "metadata": {},
   "outputs": [
    {
     "data": {
      "text/plain": [
       "1"
      ]
     },
     "execution_count": 6,
     "metadata": {},
     "output_type": "execute_result"
    }
   ],
   "source": [
    "np.uint8(257) #언싸인드"
   ]
  },
  {
   "cell_type": "code",
   "execution_count": 7,
   "id": "94fe8116",
   "metadata": {},
   "outputs": [
    {
     "data": {
      "text/plain": [
       "-128"
      ]
     },
     "execution_count": 7,
     "metadata": {},
     "output_type": "execute_result"
    }
   ],
   "source": [
    "np.int8(128) #싸인드"
   ]
  },
  {
   "cell_type": "code",
   "execution_count": 8,
   "id": "7380b8aa",
   "metadata": {},
   "outputs": [
    {
     "data": {
      "text/plain": [
       "-127"
      ]
     },
     "execution_count": 8,
     "metadata": {},
     "output_type": "execute_result"
    }
   ],
   "source": [
    "np.int8(129) #싸인드"
   ]
  },
  {
   "cell_type": "code",
   "execution_count": 9,
   "id": "adf1318e",
   "metadata": {},
   "outputs": [
    {
     "name": "stdout",
     "output_type": "stream",
     "text": [
      "5\n",
      "(784,)\n",
      "(28, 28)\n"
     ]
    }
   ],
   "source": [
    "(x_train, t_train), (x_test, t_test) = load_mnist(flatten=True, normalize=False)\n",
    "# 60000 x 1 (채널) x28 x 28 (해상도)\n",
    "img = x_train[0]\n",
    "label = t_train[0]\n",
    "print(label)  # 5\n",
    "\n",
    "#flatten 을 안하면 3차원 텐서상태고 행렬이 아니라서 이미지가 안된다. \n",
    "#flatten을 안하고 실행하려면 []을 하나 날려줘야한다.img = x_train[0][0]\n",
    "print(img.shape)  # (784,) flatten을해서 784 차원 벡터가 된다.28x28  60000 x 784 행렬이 된다.\n",
    "img = img.reshape(28, 28)  # 형상을 원래 이미지의 크기로 변형\n",
    "print(img.shape)  # (28, 28)\n",
    "\n",
    "img_show(img)\n",
    "#img_show(255-img) 브로드 캐스트 흑백이 반전된다. "
   ]
  },
  {
   "cell_type": "code",
   "execution_count": 10,
   "id": "bc025f25",
   "metadata": {},
   "outputs": [
    {
     "name": "stdout",
     "output_type": "stream",
     "text": [
      "(60000, 1, 28, 28)\n",
      "(60000,)\n",
      "(10000, 1, 28, 28)\n",
      "(10000,)\n"
     ]
    }
   ],
   "source": [
    "import sys\n",
    "import os\n",
    "import pickle\n",
    "import numpy as np\n",
    "sys.path.append(os.pardir)  # 부모 디렉터리의 파일을 가져올 수 있도록 설정\n",
    "from dataset.mnist import load_mnist\n",
    "from common.functions import sigmoid, softmax\n",
    "\n",
    "\n",
    "# 3.6.1 MNIST 데이터셋\n",
    "'''\n",
    "0~9 숫자 이미지로 구성.\n",
    "훈련 이미지 60000장, 시험 이미지 10000장\n",
    "28*28 크기의 회색조 이미지이며 각 픽셀은 0~255의 값을 가짐\n",
    "레이블은 정답에 해당하는 숫자\n",
    "'''\n",
    "# 처음 한 번은 몇 분 정도 걸림\n",
    "# 이미지를 numpy 배열로 저장\n",
    "# flatten : 입력 이미지를 평탄화(1차원 배열로)\n",
    "# normalize : 입력 이미지를 정규화(0.0~1.0 사이의 값으로)\n",
    "# one_hot_label : 레이블을 원-핫 인코딩 형태로 저장\n",
    "\n",
    "\n",
    "(x_train, t_train), (x_test, t_test) = load_mnist(flatten=False,\n",
    "                                                  normalize=False) #t는 라벨이다.\n",
    "\n",
    "# 각 데이터의 형상 출력\n",
    "print(x_train.shape)  # (60000, 784)\n",
    "print(t_train.shape)  # (60000,)\n",
    "print(x_test.shape)  # (10000, 784)\n",
    "print(t_test.shape)  # (10000,)"
   ]
  },
  {
   "cell_type": "code",
   "execution_count": 10,
   "id": "18faa235",
   "metadata": {},
   "outputs": [
    {
     "name": "stdout",
     "output_type": "stream",
     "text": [
      "[[[  0   0   0   0   0   0   0   0   0   0   0   0   0   0   0   0   0   0   0   0   0   0   0   0   0   0   0\n",
      "     0]\n",
      "  [  0   0   0   0   0   0   0   0   0   0   0   0   0   0   0   0   0   0   0   0   0   0   0   0   0   0   0\n",
      "     0]\n",
      "  [  0   0   0   0   0   0   0   0   0   0   0   0   0   0   0   0   0   0   0   0   0   0   0   0   0   0   0\n",
      "     0]\n",
      "  [  0   0   0   0   0   0   0   0   0   0   0   0   0   0   0   0   0   0   0   0   0   0   0   0   0   0   0\n",
      "     0]\n",
      "  [  0   0   0   0   0   0   0   0   0   0   0   0   0   0   0   0   0   0   0   0   0   0   0   0   0   0   0\n",
      "     0]\n",
      "  [  0   0   0   0   0   0   0   0   0   0   0   0   3  18  18  18 126 136 175  26 166 255 247 127   0   0   0\n",
      "     0]\n",
      "  [  0   0   0   0   0   0   0   0  30  36  94 154 170 253 253 253 253 253 225 172 253 242 195  64   0   0   0\n",
      "     0]\n",
      "  [  0   0   0   0   0   0   0  49 238 253 253 253 253 253 253 253 253 251  93  82  82  56  39   0   0   0   0\n",
      "     0]\n",
      "  [  0   0   0   0   0   0   0  18 219 253 253 253 253 253 198 182 247 241   0   0   0   0   0   0   0   0   0\n",
      "     0]\n",
      "  [  0   0   0   0   0   0   0   0  80 156 107 253 253 205  11   0  43 154   0   0   0   0   0   0   0   0   0\n",
      "     0]\n",
      "  [  0   0   0   0   0   0   0   0   0  14   1 154 253  90   0   0   0   0   0   0   0   0   0   0   0   0   0\n",
      "     0]\n",
      "  [  0   0   0   0   0   0   0   0   0   0   0 139 253 190   2   0   0   0   0   0   0   0   0   0   0   0   0\n",
      "     0]\n",
      "  [  0   0   0   0   0   0   0   0   0   0   0  11 190 253  70   0   0   0   0   0   0   0   0   0   0   0   0\n",
      "     0]\n",
      "  [  0   0   0   0   0   0   0   0   0   0   0   0  35 241 225 160 108   1   0   0   0   0   0   0   0   0   0\n",
      "     0]\n",
      "  [  0   0   0   0   0   0   0   0   0   0   0   0   0  81 240 253 253 119  25   0   0   0   0   0   0   0   0\n",
      "     0]\n",
      "  [  0   0   0   0   0   0   0   0   0   0   0   0   0   0  45 186 253 253 150  27   0   0   0   0   0   0   0\n",
      "     0]\n",
      "  [  0   0   0   0   0   0   0   0   0   0   0   0   0   0   0  16  93 252 253 187   0   0   0   0   0   0   0\n",
      "     0]\n",
      "  [  0   0   0   0   0   0   0   0   0   0   0   0   0   0   0   0   0 249 253 249  64   0   0   0   0   0   0\n",
      "     0]\n",
      "  [  0   0   0   0   0   0   0   0   0   0   0   0   0   0  46 130 183 253 253 207   2   0   0   0   0   0   0\n",
      "     0]\n",
      "  [  0   0   0   0   0   0   0   0   0   0   0   0  39 148 229 253 253 253 250 182   0   0   0   0   0   0   0\n",
      "     0]\n",
      "  [  0   0   0   0   0   0   0   0   0   0  24 114 221 253 253 253 253 201  78   0   0   0   0   0   0   0   0\n",
      "     0]\n",
      "  [  0   0   0   0   0   0   0   0  23  66 213 253 253 253 253 198  81   2   0   0   0   0   0   0   0   0   0\n",
      "     0]\n",
      "  [  0   0   0   0   0   0  18 171 219 253 253 253 253 195  80   9   0   0   0   0   0   0   0   0   0   0   0\n",
      "     0]\n",
      "  [  0   0   0   0  55 172 226 253 253 253 253 244 133  11   0   0   0   0   0   0   0   0   0   0   0   0   0\n",
      "     0]\n",
      "  [  0   0   0   0 136 253 253 253 212 135 132  16   0   0   0   0   0   0   0   0   0   0   0   0   0   0   0\n",
      "     0]\n",
      "  [  0   0   0   0   0   0   0   0   0   0   0   0   0   0   0   0   0   0   0   0   0   0   0   0   0   0   0\n",
      "     0]\n",
      "  [  0   0   0   0   0   0   0   0   0   0   0   0   0   0   0   0   0   0   0   0   0   0   0   0   0   0   0\n",
      "     0]\n",
      "  [  0   0   0   0   0   0   0   0   0   0   0   0   0   0   0   0   0   0   0   0   0   0   0   0   0   0   0\n",
      "     0]]]\n",
      "5\n"
     ]
    }
   ],
   "source": [
    "np.set_printoptions(linewidth=115,threshold =1000) # linewidth 줄넘김 threshold 1000개까진 표시해주세요\n",
    "print(x_train[0]) # 이 모양을 Image Matrix라고 한다. flatten을 하면 벡터로된다. 3,3 은 9차원 벡터가 되고 2,2 는 4차원 벡터가 된다.\n",
    "print(t_train[0])"
   ]
  },
  {
   "cell_type": "code",
   "execution_count": 11,
   "id": "accf350f",
   "metadata": {},
   "outputs": [
    {
     "name": "stdout",
     "output_type": "stream",
     "text": [
      "[[[  0   0   0   0   0   0   0   0   0   0   0   0   0   0   0   0   0   0   0   0   0   0   0   0   0   0   0\n",
      "     0]\n",
      "  [  0   0   0   0   0   0   0   0   0   0   0   0   0   0   0   0   0   0   0   0   0   0   0   0   0   0   0\n",
      "     0]\n",
      "  [  0   0   0   0   0   0   0   0   0   0   0   0   0   0   0   0   0   0   0   0   0   0   0   0   0   0   0\n",
      "     0]\n",
      "  [  0   0   0   0   0   0   0   0   0   0   0   0   0   0   0   0   0   0   0   0   0   0   0   0   0   0   0\n",
      "     0]\n",
      "  [  0   0   0   0   0   0   0   0   0   0   0   0   0   0   0  51 159 253 159  50   0   0   0   0   0   0   0\n",
      "     0]\n",
      "  [  0   0   0   0   0   0   0   0   0   0   0   0   0   0  48 238 252 252 252 237   0   0   0   0   0   0   0\n",
      "     0]\n",
      "  [  0   0   0   0   0   0   0   0   0   0   0   0   0  54 227 253 252 239 233 252  57   6   0   0   0   0   0\n",
      "     0]\n",
      "  [  0   0   0   0   0   0   0   0   0   0   0  10  60 224 252 253 252 202  84 252 253 122   0   0   0   0   0\n",
      "     0]\n",
      "  [  0   0   0   0   0   0   0   0   0   0   0 163 252 252 252 253 252 252  96 189 253 167   0   0   0   0   0\n",
      "     0]\n",
      "  [  0   0   0   0   0   0   0   0   0   0  51 238 253 253 190 114 253 228  47  79 255 168   0   0   0   0   0\n",
      "     0]\n",
      "  [  0   0   0   0   0   0   0   0   0  48 238 252 252 179  12  75 121  21   0   0 253 243  50   0   0   0   0\n",
      "     0]\n",
      "  [  0   0   0   0   0   0   0   0  38 165 253 233 208  84   0   0   0   0   0   0 253 252 165   0   0   0   0\n",
      "     0]\n",
      "  [  0   0   0   0   0   0   0   7 178 252 240  71  19  28   0   0   0   0   0   0 253 252 195   0   0   0   0\n",
      "     0]\n",
      "  [  0   0   0   0   0   0   0  57 252 252  63   0   0   0   0   0   0   0   0   0 253 252 195   0   0   0   0\n",
      "     0]\n",
      "  [  0   0   0   0   0   0   0 198 253 190   0   0   0   0   0   0   0   0   0   0 255 253 196   0   0   0   0\n",
      "     0]\n",
      "  [  0   0   0   0   0   0  76 246 252 112   0   0   0   0   0   0   0   0   0   0 253 252 148   0   0   0   0\n",
      "     0]\n",
      "  [  0   0   0   0   0   0  85 252 230  25   0   0   0   0   0   0   0   0   7 135 253 186  12   0   0   0   0\n",
      "     0]\n",
      "  [  0   0   0   0   0   0  85 252 223   0   0   0   0   0   0   0   0   7 131 252 225  71   0   0   0   0   0\n",
      "     0]\n",
      "  [  0   0   0   0   0   0  85 252 145   0   0   0   0   0   0   0  48 165 252 173   0   0   0   0   0   0   0\n",
      "     0]\n",
      "  [  0   0   0   0   0   0  86 253 225   0   0   0   0   0   0 114 238 253 162   0   0   0   0   0   0   0   0\n",
      "     0]\n",
      "  [  0   0   0   0   0   0  85 252 249 146  48  29  85 178 225 253 223 167  56   0   0   0   0   0   0   0   0\n",
      "     0]\n",
      "  [  0   0   0   0   0   0  85 252 252 252 229 215 252 252 252 196 130   0   0   0   0   0   0   0   0   0   0\n",
      "     0]\n",
      "  [  0   0   0   0   0   0  28 199 252 252 253 252 252 233 145   0   0   0   0   0   0   0   0   0   0   0   0\n",
      "     0]\n",
      "  [  0   0   0   0   0   0   0  25 128 252 253 252 141  37   0   0   0   0   0   0   0   0   0   0   0   0   0\n",
      "     0]\n",
      "  [  0   0   0   0   0   0   0   0   0   0   0   0   0   0   0   0   0   0   0   0   0   0   0   0   0   0   0\n",
      "     0]\n",
      "  [  0   0   0   0   0   0   0   0   0   0   0   0   0   0   0   0   0   0   0   0   0   0   0   0   0   0   0\n",
      "     0]\n",
      "  [  0   0   0   0   0   0   0   0   0   0   0   0   0   0   0   0   0   0   0   0   0   0   0   0   0   0   0\n",
      "     0]\n",
      "  [  0   0   0   0   0   0   0   0   0   0   0   0   0   0   0   0   0   0   0   0   0   0   0   0   0   0   0\n",
      "     0]]]\n",
      "0\n"
     ]
    }
   ],
   "source": [
    "print(x_train[1])\n",
    "print(t_train[1])"
   ]
  },
  {
   "cell_type": "code",
   "execution_count": 12,
   "id": "d36c94db",
   "metadata": {},
   "outputs": [
    {
     "data": {
      "text/plain": [
       "array([5, 0, 4, 1, 9, 2, 1, 3, 1, 4], dtype=uint8)"
      ]
     },
     "execution_count": 12,
     "metadata": {},
     "output_type": "execute_result"
    }
   ],
   "source": [
    "t_train[:10]"
   ]
  },
  {
   "cell_type": "code",
   "execution_count": 13,
   "id": "45c23e46",
   "metadata": {},
   "outputs": [
    {
     "data": {
      "text/plain": [
       "4"
      ]
     },
     "execution_count": 13,
     "metadata": {},
     "output_type": "execute_result"
    }
   ],
   "source": [
    "x_train.ndim # mnist를 불러올때 flatten을 해주면 2차원 배열로 나온다. "
   ]
  },
  {
   "cell_type": "markdown",
   "id": "410e9f82",
   "metadata": {},
   "source": [
    "### 이미지와 텐서"
   ]
  },
  {
   "cell_type": "markdown",
   "id": "feb1d1dd",
   "metadata": {},
   "source": [
    "mnist 흑백 이미지 : 행렬 흑, 백  28 x 28  \n",
    "흑백 이미지의 데이터 : 3차원 텐서 (60000장 x 28 x 28)  \n",
    "\n",
    "컬러이미지 :  3차원 텐서 앵무새 사진은 빨 초 파  3개를 합쳐놓은것이다. 1920 x1080  \n",
    "컬러이미지의 데이터 : (4차원 텐서 1920 x1080 x3(3색) x 60000장)"
   ]
  },
  {
   "cell_type": "code",
   "execution_count": 14,
   "id": "b36930da",
   "metadata": {},
   "outputs": [],
   "source": [
    "x=np.arange(12)"
   ]
  },
  {
   "cell_type": "code",
   "execution_count": 15,
   "id": "2ab3b578",
   "metadata": {},
   "outputs": [
    {
     "data": {
      "text/plain": [
       "array([ 0,  1,  2,  3,  4,  5,  6,  7,  8,  9, 10, 11])"
      ]
     },
     "execution_count": 15,
     "metadata": {},
     "output_type": "execute_result"
    }
   ],
   "source": [
    "x"
   ]
  },
  {
   "cell_type": "code",
   "execution_count": 16,
   "id": "214c652d",
   "metadata": {},
   "outputs": [
    {
     "data": {
      "text/plain": [
       "array([[ 0,  1,  2,  3],\n",
       "       [ 4,  5,  6,  7],\n",
       "       [ 8,  9, 10, 11]])"
      ]
     },
     "execution_count": 16,
     "metadata": {},
     "output_type": "execute_result"
    }
   ],
   "source": [
    "x.reshape(3,4)"
   ]
  },
  {
   "cell_type": "code",
   "execution_count": null,
   "id": "67b8439d",
   "metadata": {},
   "outputs": [],
   "source": [
    "x.reshape(1,2,6)"
   ]
  },
  {
   "cell_type": "markdown",
   "id": "b442fbfb",
   "metadata": {},
   "source": [
    "###  matplotlib 활용"
   ]
  },
  {
   "cell_type": "code",
   "execution_count": null,
   "id": "4a647334",
   "metadata": {},
   "outputs": [],
   "source": [
    "import matplotlib.pyplot as plt\n",
    "(x_train, t_train), (x_test, t_test) = load_mnist(flatten=False, normalize=False)\n",
    "\n",
    "plt.figure(figsize=(4,4)) #새로운 figure를 생성해준다. 크기도 바꿀수 있다.\n",
    "plt.imshow(x_train[0][0]) #위에서 말한 flatten을 false로 실행\n",
    "plt.colorbar() #256 사이의 값\n",
    "plt.show()"
   ]
  },
  {
   "cell_type": "code",
   "execution_count": null,
   "id": "12a976b2",
   "metadata": {},
   "outputs": [],
   "source": [
    "#여러개 한번에 표시하기 \n",
    "plt.figure(figsize=(10,10))\n",
    "for i in range(25):\n",
    "    plt.subplot(5,5,i+1)\n",
    "    plt.xticks([])\n",
    "    plt.yticks([])\n",
    "    plt.imshow(x_train[i][0],cmap = plt.cm.binary)\n",
    "    plt.xlabel(t_train[i])\n",
    "plt.show()"
   ]
  }
 ],
 "metadata": {
  "kernelspec": {
   "display_name": "Python 3 (ipykernel)",
   "language": "python",
   "name": "python3"
  },
  "language_info": {
   "codemirror_mode": {
    "name": "ipython",
    "version": 3
   },
   "file_extension": ".py",
   "mimetype": "text/x-python",
   "name": "python",
   "nbconvert_exporter": "python",
   "pygments_lexer": "ipython3",
   "version": "3.9.13"
  }
 },
 "nbformat": 4,
 "nbformat_minor": 5
}
