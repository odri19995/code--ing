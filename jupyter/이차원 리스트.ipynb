{
 "cells": [
  {
   "cell_type": "code",
   "execution_count": 1,
   "id": "eac7bdef",
   "metadata": {},
   "outputs": [
    {
     "name": "stdout",
     "output_type": "stream",
     "text": [
      "10 20\n",
      "30 40\n",
      "50 60\n"
     ]
    }
   ],
   "source": [
    "a = [[10, 20], [30, 40], [50, 60]]\n",
    "for x, y in a:    # 리스트의 가로 한 줄(안쪽 리스트)에서 요소 두 개를 꺼냄\n",
    "     print(x, y)"
   ]
  },
  {
   "cell_type": "markdown",
   "id": "06515377",
   "metadata": {},
   "source": [
    "  for 반복문으로 2차원 리스트 만들기"
   ]
  },
  {
   "cell_type": "code",
   "execution_count": 2,
   "id": "ef705f4d",
   "metadata": {},
   "outputs": [
    {
     "name": "stdout",
     "output_type": "stream",
     "text": [
      "[[0, 0], [0, 0], [0, 0]]\n"
     ]
    }
   ],
   "source": [
    "a = []    # 빈 리스트 생성\n",
    " \n",
    "for i in range(3):\n",
    "    line = []              # 안쪽 리스트로 사용할 빈 리스트 생성\n",
    "    for j in range(2):\n",
    "        line.append(0)     # 안쪽 리스트에 0 추가\n",
    "    a.append(line)         # 전체 리스트에 안쪽 리스트를 추가\n",
    " \n",
    "print(a)"
   ]
  },
  {
   "cell_type": "code",
   "execution_count": 3,
   "id": "7237ff42",
   "metadata": {},
   "outputs": [
    {
     "data": {
      "text/plain": [
       "[[0, 0], [0, 0], [0, 0]]"
      ]
     },
     "execution_count": 3,
     "metadata": {},
     "output_type": "execute_result"
    }
   ],
   "source": [
    "a = [[0 for j in range(2)] for i in range(3)] #리스트 컴프리핸션\n",
    ">>> a\n",
    "[[0, 0], [0, 0], [0, 0]]"
   ]
  },
  {
   "cell_type": "code",
   "execution_count": 6,
   "id": "a0c5a42d",
   "metadata": {},
   "outputs": [],
   "source": [
    "a=[[0 for j in range(2)] for i in range(3)]"
   ]
  },
  {
   "cell_type": "code",
   "execution_count": 7,
   "id": "34e3d805",
   "metadata": {},
   "outputs": [
    {
     "data": {
      "text/plain": [
       "[0, 0]"
      ]
     },
     "execution_count": 7,
     "metadata": {},
     "output_type": "execute_result"
    }
   ],
   "source": [
    "[0] * 2"
   ]
  },
  {
   "cell_type": "code",
   "execution_count": 8,
   "id": "61d74466",
   "metadata": {},
   "outputs": [],
   "source": [
    "a=[[0] * 2 for i in range(3)]"
   ]
  },
  {
   "cell_type": "code",
   "execution_count": 9,
   "id": "6b6b2772",
   "metadata": {},
   "outputs": [
    {
     "data": {
      "text/plain": [
       "[[0, 0], [0, 0], [0, 0]]"
      ]
     },
     "execution_count": 9,
     "metadata": {},
     "output_type": "execute_result"
    }
   ],
   "source": [
    "a"
   ]
  },
  {
   "cell_type": "markdown",
   "id": "88aa8361",
   "metadata": {},
   "source": [
    "### 톱니형 리스트 만들기"
   ]
  },
  {
   "cell_type": "code",
   "execution_count": 10,
   "id": "059293a7",
   "metadata": {},
   "outputs": [
    {
     "name": "stdout",
     "output_type": "stream",
     "text": [
      "[[0, 0, 0], [0], [0, 0, 0], [0, 0], [0, 0, 0, 0, 0]]\n"
     ]
    }
   ],
   "source": [
    "a = [3, 1, 3, 2, 5]    # 가로 크기를 저장한 리스트\n",
    "b = []    # 빈 리스트 생성\n",
    " \n",
    "for i in a:      # 가로 크기를 저장한 리스트로 반복\n",
    "    line = []    # 안쪽 리스트로 사용할 빈 리스트 생성\n",
    "    for j in range(i):    # 리스트 a에 저장된 가로 크기만큼 반복\n",
    "        line.append(0)\n",
    "    b.append(line)        # 리스트 b에 안쪽 리스트를 추가\n",
    " \n",
    "print(b)"
   ]
  },
  {
   "cell_type": "code",
   "execution_count": 11,
   "id": "86fa8370",
   "metadata": {},
   "outputs": [
    {
     "name": "stdout",
     "output_type": "stream",
     "text": [
      "[['maria', 'A', 25], ['andrew', 'B', 7], ['john', 'C', 19]]\n",
      "[['andrew', 'B', 7], ['john', 'C', 19], ['maria', 'A', 25]]\n"
     ]
    }
   ],
   "source": [
    "students = [\n",
    "    ['john', 'C', 19],\n",
    "    ['maria', 'A', 25],\n",
    "    ['andrew', 'B', 7]\n",
    "]\n",
    " \n",
    "print(sorted(students, key=lambda student: student[1]))  # 안쪽 리스트의 인덱스 1을 기준으로 정렬\n",
    "print(sorted(students, key=lambda student: student[2]))  # 안쪽 리스트의 인덱스 2를 기준으로 정렬"
   ]
  },
  {
   "cell_type": "markdown",
   "id": "9a7ac3d0",
   "metadata": {},
   "source": [
    "2차원 이상의 다차원 리스트는 리스트를 완전히 복사하려면 copy 메서드 대신 copy 모듈의 deepcopy 함수를 사용해야 합니다."
   ]
  },
  {
   "cell_type": "code",
   "execution_count": 12,
   "id": "972242bc",
   "metadata": {},
   "outputs": [
    {
     "data": {
      "text/plain": [
       "[[500, 20], [30, 40]]"
      ]
     },
     "execution_count": 12,
     "metadata": {},
     "output_type": "execute_result"
    }
   ],
   "source": [
    "a = [[10, 20], [30, 40]]\n",
    ">>> import copy             # copy 모듈을 가져옴\n",
    ">>> b = copy.deepcopy(a)    # copy.deepcopy 함수를 사용하여 깊은 복사\n",
    ">>> b[0][0] = 500\n",
    ">>> a\n",
    "[[10, 20], [30, 40]]\n",
    ">>> b\n",
    "[[500, 20], [30, 40]]"
   ]
  },
  {
   "cell_type": "code",
   "execution_count": 13,
   "id": "ba647721",
   "metadata": {
    "scrolled": true
   },
   "outputs": [
    {
     "data": {
      "text/plain": [
       "[[0, 0, 0, 0, 0, 0, 0, 0, 0]]"
      ]
     },
     "execution_count": 13,
     "metadata": {},
     "output_type": "execute_result"
    }
   ],
   "source": [
    "[[0, 0, 0] * 3]"
   ]
  },
  {
   "cell_type": "markdown",
   "id": "44404c2e",
   "metadata": {},
   "source": [
    "### 문자열 응용하기"
   ]
  },
  {
   "attachments": {
    "image.png": {
     "image/png": "[encoded data removed]"
    }
   },
   "cell_type": "markdown",
   "id": "afe47241",
   "metadata": {},
   "source": [
    "![image.png](attachment:image.png)"
   ]
  },
  {
   "cell_type": "code",
   "execution_count": 1,
   "id": "52e01b83",
   "metadata": {},
   "outputs": [
    {
     "data": {
      "text/plain": [
       "'Hello, Python'"
      ]
     },
     "execution_count": 1,
     "metadata": {},
     "output_type": "execute_result"
    }
   ],
   "source": [
    ">>> s = 'Hello, world!'\n",
    ">>> s = s.replace('world!', 'Python')\n",
    ">>> s\n",
    "'Hello, Python'"
   ]
  },
  {
   "cell_type": "code",
   "execution_count": 2,
   "id": "70a83d50",
   "metadata": {},
   "outputs": [
    {
     "data": {
      "text/plain": [
       "'1ppl2'"
      ]
     },
     "execution_count": 2,
     "metadata": {},
     "output_type": "execute_result"
    }
   ],
   "source": [
    ">>> table = str.maketrans('aeiou', '12345')\n",
    ">>> 'apple'.translate(table)\n",
    "'1ppl2'"
   ]
  },
  {
   "cell_type": "markdown",
   "id": "087d6074",
   "metadata": {},
   "source": [
    "lstrip()은 문자열에서 왼쪽에 있는 연속된 모든 공백을 삭제합니다(l은 왼쪽(left)을 의미)."
   ]
  },
  {
   "cell_type": "code",
   "execution_count": 4,
   "id": "2ea731c0",
   "metadata": {},
   "outputs": [
    {
     "data": {
      "text/plain": [
       "'python     '"
      ]
     },
     "execution_count": 4,
     "metadata": {},
     "output_type": "execute_result"
    }
   ],
   "source": [
    "'    python     '.lstrip()"
   ]
  },
  {
   "cell_type": "code",
   "execution_count": 5,
   "id": "ac64be8e",
   "metadata": {},
   "outputs": [
    {
     "data": {
      "text/plain": [
       "'    python'"
      ]
     },
     "execution_count": 5,
     "metadata": {},
     "output_type": "execute_result"
    }
   ],
   "source": [
    "'    python     '.rstrip()"
   ]
  },
  {
   "cell_type": "code",
   "execution_count": 6,
   "id": "f61ed325",
   "metadata": {},
   "outputs": [
    {
     "data": {
      "text/plain": [
       "'python'"
      ]
     },
     "execution_count": 6,
     "metadata": {},
     "output_type": "execute_result"
    }
   ],
   "source": [
    "'    python     '.strip()"
   ]
  },
  {
   "cell_type": "markdown",
   "id": "dfc80d52",
   "metadata": {},
   "source": [
    " 문자열에서 특정 문자를 삭제해보겠습니다.\n",
    "\n",
    "lstrip('삭제할문자들')과 같이 삭제할 문자들을 문자열 형태로 넣어주면 문자열 왼쪽에 있는 해당 문자를 삭제합니다. 다음은 문자열 왼쪽의 ,(콤마)와 .(점)을 삭제합니다. 단, 여기서는 공백을 넣지 않았으므로 공백은 그대로 둡니다."
   ]
  },
  {
   "cell_type": "code",
   "execution_count": 7,
   "id": "44404e34",
   "metadata": {},
   "outputs": [
    {
     "data": {
      "text/plain": [
       "' python'"
      ]
     },
     "execution_count": 7,
     "metadata": {},
     "output_type": "execute_result"
    }
   ],
   "source": [
    "', python.'.strip(',.')\n",
    "' python'"
   ]
  },
  {
   "cell_type": "markdown",
   "id": "0489a7ac",
   "metadata": {},
   "source": [
    "string 모듈의 punctuation에는 모든 구두점이 들어있습니다. 다음과 같이 strip 메서드에 string.punctuation을 넣으면 문자열 양쪽의 모든 구두점을 간단하게 삭제할 수 있습니다."
   ]
  },
  {
   "cell_type": "code",
   "execution_count": 9,
   "id": "e529f578",
   "metadata": {},
   "outputs": [
    {
     "data": {
      "text/plain": [
       "'!\"#$%&\\'()*+,-./:;<=>?@[\\\\]^_`{|}~'"
      ]
     },
     "execution_count": 9,
     "metadata": {},
     "output_type": "execute_result"
    }
   ],
   "source": [
    "import string\n",
    ">>> ', python.'.strip(string.punctuation)\n",
    "' python'\n",
    ">>> string.punctuation\n",
    "'!\"#$%&\\'()*+,-./:;<=>?@[\\\\]^_`{|}~'"
   ]
  },
  {
   "cell_type": "code",
   "execution_count": 10,
   "id": "4c365dd1",
   "metadata": {},
   "outputs": [
    {
     "data": {
      "text/plain": [
       "' python'"
      ]
     },
     "execution_count": 10,
     "metadata": {},
     "output_type": "execute_result"
    }
   ],
   "source": [
    "', python.'.strip(string.punctuation)"
   ]
  },
  {
   "cell_type": "code",
   "execution_count": 11,
   "id": "39087033",
   "metadata": {},
   "outputs": [
    {
     "data": {
      "text/plain": [
       "'python'"
      ]
     },
     "execution_count": 11,
     "metadata": {},
     "output_type": "execute_result"
    }
   ],
   "source": [
    "', python.'.strip(string.punctuation + ' ')\n",
    "'python'"
   ]
  },
  {
   "cell_type": "markdown",
   "id": "de038151",
   "metadata": {},
   "source": [
    " 문자열 위치 찾기"
   ]
  },
  {
   "cell_type": "code",
   "execution_count": 12,
   "id": "72938cfd",
   "metadata": {},
   "outputs": [
    {
     "data": {
      "text/plain": [
       "-1"
      ]
     },
     "execution_count": 12,
     "metadata": {},
     "output_type": "execute_result"
    }
   ],
   "source": [
    ">>> 'apple pineapple'.find('pl')\n",
    "2\n",
    ">>> 'apple pineapple'.find('xy')\n",
    "-1"
   ]
  },
  {
   "cell_type": "code",
   "execution_count": 13,
   "id": "d76f5473",
   "metadata": {},
   "outputs": [
    {
     "data": {
      "text/plain": [
       "-1"
      ]
     },
     "execution_count": 13,
     "metadata": {},
     "output_type": "execute_result"
    }
   ],
   "source": [
    ">>> 'apple pineapple'.rfind('pl')\n",
    "12\n",
    ">>> 'apple pineapple'.rfind('xy')\n",
    "-1"
   ]
  },
  {
   "cell_type": "markdown",
   "id": "7803fbfd",
   "metadata": {},
   "source": [
    "문자열 개수 세기"
   ]
  },
  {
   "cell_type": "code",
   "execution_count": 15,
   "id": "7d7a474d",
   "metadata": {},
   "outputs": [
    {
     "data": {
      "text/plain": [
       "2"
      ]
     },
     "execution_count": 15,
     "metadata": {},
     "output_type": "execute_result"
    }
   ],
   "source": [
    "'apple pineapple'.count('pl')\n"
   ]
  },
  {
   "cell_type": "markdown",
   "id": "2de48509",
   "metadata": {},
   "source": [
    "### 24.4 연습문제: 파일 경로에서 파일명만 가져오기"
   ]
  },
  {
   "attachments": {
    "image.png": {
     "image/png": "[encoded data removed]"
    }
   },
   "cell_type": "markdown",
   "id": "fb24a968",
   "metadata": {},
   "source": [
    "![image.png](attachment:image.png)"
   ]
  },
  {
   "cell_type": "code",
   "execution_count": 17,
   "id": "f4cde96b",
   "metadata": {},
   "outputs": [],
   "source": [
    "path = ' C:\\\\Users\\\\dojang\\\\Appdata\\\\Local\\\\Programs\\\\Python\\\\Python36-32\\\\python.exe'\n",
    "\n",
    "x= path.split('\\\\')\n",
    "filename =x[-1]"
   ]
  },
  {
   "cell_type": "code",
   "execution_count": 18,
   "id": "2bd7c8b4",
   "metadata": {},
   "outputs": [
    {
     "name": "stdout",
     "output_type": "stream",
     "text": [
      "python.exe\n"
     ]
    }
   ],
   "source": [
    "print(filename)"
   ]
  },
  {
   "cell_type": "code",
   "execution_count": null,
   "id": "b1c593cd",
   "metadata": {},
   "outputs": [],
   "source": [
    "filename = path[path.rfind('\\\\') +1:]"
   ]
  },
  {
   "attachments": {
    "image.png": {
     "image/png": "[encoded data removed]"
    }
   },
   "cell_type": "markdown",
   "id": "8daf6125",
   "metadata": {},
   "source": [
    "![image.png](attachment:image.png)"
   ]
  },
  {
   "cell_type": "code",
   "execution_count": 49,
   "id": "426dadc9",
   "metadata": {},
   "outputs": [
    {
     "name": "stdout",
     "output_type": "stream",
     "text": [
      "sentence = input()  sentence = sentence.replace(\"them\",\" \") sentence = sentence.replace(\"whether\",\" \") sentence = sentence.replace(\"their\",\" \") sentence = sentence.strip(' ') print(sentence.count(\"the\"))\n",
      "1\n"
     ]
    }
   ],
   "source": [
    "sentence = input()\n",
    "\n",
    "sentence = sentence.replace(\"them\",\" \")\n",
    "sentence = sentence.replace(\"whether\",\" \")\n",
    "sentence = sentence.replace(\"their\",\" \")\n",
    "sentence = sentence.strip(' ')\n",
    "print(sentence.count(\"the\"))\n",
    "\n"
   ]
  },
  {
   "cell_type": "code",
   "execution_count": 51,
   "id": "fe1e1993",
   "metadata": {},
   "outputs": [
    {
     "name": "stdout",
     "output_type": "stream",
     "text": [
      "yes\n",
      "0\n"
     ]
    }
   ],
   "source": [
    "a = input().split()\n",
    "\n",
    "count =0\n",
    "for  i in a:\n",
    "    if i.strip('.,') == 'the':\n",
    "        count += 1\n",
    "print(count)"
   ]
  },
  {
   "cell_type": "markdown",
   "id": "de2c66e8",
   "metadata": {},
   "source": [
    "먼저 문자열이 입력되므로 input을 사용하여 문자열을 변수에 저장해줍니다(변수는 이하 paragraph).\n",
    "\n",
    "paragraph에서 paragraph.count('the')처럼 count 메서드로 'the'의 개수를 구하면 'whether', 'themselves'의 개수까지 구하게 되므로 잘못된 결과가 나옵니다. 따라서 'the'의 개수만 구하려면 먼저 paragraph에 split을 사용하여 공백을 기준으로 분리한 뒤 리스트로 만들어줍니다(리스트는 이하 words).\n",
    "\n",
    "그다음에 for 반복문으로 리스트 words를 반복하면서 문자열이 'the'인지 판단합니다. 이때 단순히 == 연산자로 요소 i가 'the'와 같은지만 판단하면 'the,' 또는 'the.'처럼 ,(콤마)나 .(점)이 붙어있는 문자열은 'the'와 다르다고 나옵니다. 따라서 strip에 ',.'을 지정해서 콤마와 점을 삭제한 뒤 'the'와 비교해야 합니다. 비교한 결과가 참이면 변수 count에 1을 더해주면 됩니다.\n",
    "\n",
    "마지막으로 print를 사용하여 count의 값을 출력해줍니다"
   ]
  },
  {
   "cell_type": "code",
   "execution_count": null,
   "id": "f5042756",
   "metadata": {},
   "outputs": [],
   "source": []
  }
 ],
 "metadata": {
  "kernelspec": {
   "display_name": "Python 3 (ipykernel)",
   "language": "python",
   "name": "python3"
  },
  "language_info": {
   "codemirror_mode": {
    "name": "ipython",
    "version": 3
   },
   "file_extension": ".py",
   "mimetype": "text/x-python",
   "name": "python",
   "nbconvert_exporter": "python",
   "pygments_lexer": "ipython3",
   "version": "3.9.13"
  }
 },
 "nbformat": 4,
 "nbformat_minor": 5
}
